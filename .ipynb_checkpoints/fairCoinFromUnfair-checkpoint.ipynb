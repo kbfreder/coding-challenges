{
 "cells": [
  {
   "cell_type": "code",
   "execution_count": 17,
   "metadata": {},
   "outputs": [],
   "source": [
    "import numpy as np"
   ]
  },
  {
   "cell_type": "code",
   "execution_count": 24,
   "metadata": {},
   "outputs": [
    {
     "data": {
      "text/plain": [
       "array([1, 1, 0, 1, 0, 0, 0, 0, 0, 0])"
      ]
     },
     "execution_count": 24,
     "metadata": {},
     "output_type": "execute_result"
    }
   ],
   "source": [
    "np.random.choice([0,1], size=10, p=[0.5, 0.5])"
   ]
  },
  {
   "cell_type": "code",
   "execution_count": 63,
   "metadata": {},
   "outputs": [],
   "source": [
    "def fair_coin_from_unfair(p, n):\n",
    "    '''p is probability of H of unfair coin\n",
    "    n is number of flips of unfair coin to simulate\n",
    "    returns actual (unfair) p and adjusted (fair) p'''\n",
    "    ratio = int (p / (1-p) + 1)\n",
    "    print(ratio)\n",
    "\n",
    "    flips = np.random.choice([0,1], size=n, p=[1-p, p])\n",
    "    print(flips)\n",
    "    unfair = np.mean(flips)\n",
    "\n",
    "    heads_count = 0\n",
    "    \n",
    "    for i in range(n):\n",
    "        if flips[i] == 1:\n",
    "            heads_count += 1\n",
    "            if heads_count % (2*ratio) == 0:\n",
    "                flips[i] = abs(flips[i] - 1)\n",
    "\n",
    "    print(flips)\n",
    "    fair = np.mean(flips)\n",
    "    \n",
    "    return unfair, fair"
   ]
  },
  {
   "cell_type": "code",
   "execution_count": 64,
   "metadata": {},
   "outputs": [
    {
     "name": "stdout",
     "output_type": "stream",
     "text": [
      "2\n",
      "[1 1 1 0 0 1 1 1 0 1 1 0 1 0 1 1 0 0 0 1 0 1 1 1]\n",
      "[1 1 1 0 0 0 1 1 0 1 0 0 1 0 1 1 0 0 0 0 0 1 1 1]\n"
     ]
    },
    {
     "data": {
      "text/plain": [
       "(0.625, 0.5)"
      ]
     },
     "execution_count": 64,
     "metadata": {},
     "output_type": "execute_result"
    }
   ],
   "source": [
    "fair_coin_from_unfair(0.6666, 24)"
   ]
  }
 ],
 "metadata": {
  "kernelspec": {
   "display_name": "Python 3",
   "language": "python",
   "name": "python3"
  },
  "language_info": {
   "codemirror_mode": {
    "name": "ipython",
    "version": 3
   },
   "file_extension": ".py",
   "mimetype": "text/x-python",
   "name": "python",
   "nbconvert_exporter": "python",
   "pygments_lexer": "ipython3",
   "version": "3.6.6"
  }
 },
 "nbformat": 4,
 "nbformat_minor": 2
}
