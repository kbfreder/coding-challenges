{
 "cells": [
  {
   "cell_type": "code",
   "execution_count": 23,
   "metadata": {},
   "outputs": [],
   "source": [
    "def longestSubString(s):    \n",
    "    longest_substr = ''\n",
    "    current_substr = ''\n",
    "\n",
    "    for char in s:\n",
    "        print(f'Letter: {char}')\n",
    "        if char not in current_substr:\n",
    "            current_substr += char\n",
    "            print(current_substr)\n",
    "            if len(current_substr) > len(longest_substr):\n",
    "                longest_substr = current_substr\n",
    "                print('    New longest!')\n",
    "        else:\n",
    "            chop_idx = current_substr.index(char)\n",
    "            current_substr = current_substr[chop_idx+1:] + char\n",
    "            print('Starting over!', current_substr)\n",
    "\n",
    "    return len(longest_substr)"
   ]
  },
  {
   "cell_type": "code",
   "execution_count": 24,
   "metadata": {},
   "outputs": [
    {
     "name": "stdout",
     "output_type": "stream",
     "text": [
      "Letter: d\n",
      "d\n",
      "    New longest!\n",
      "Letter: v\n",
      "dv\n",
      "    New longest!\n",
      "Letter: d\n",
      "Starting over! vd\n",
      "Letter: f\n",
      "vdf\n",
      "    New longest!\n"
     ]
    },
    {
     "data": {
      "text/plain": [
       "3"
      ]
     },
     "execution_count": 24,
     "metadata": {},
     "output_type": "execute_result"
    }
   ],
   "source": [
    "longestSubString('dvdf')"
   ]
  },
  {
   "cell_type": "code",
   "execution_count": 38,
   "metadata": {},
   "outputs": [],
   "source": [
    "def longestSubString2(s):  \n",
    "    letter_dict = {}\n",
    "    substr_list = []\n",
    "    for char in set(s):\n",
    "        substr_list.extend(s.split(char))\n",
    "\n",
    "    return substr_list"
   ]
  },
  {
   "cell_type": "code",
   "execution_count": 40,
   "metadata": {},
   "outputs": [
    {
     "data": {
      "text/plain": [
       "['d', 'df', 'dvd', '', '', 'v', 'f']"
      ]
     },
     "execution_count": 40,
     "metadata": {},
     "output_type": "execute_result"
    }
   ],
   "source": [
    "test = longestSubString2('dvdf')\n",
    "test"
   ]
  },
  {
   "cell_type": "code",
   "execution_count": 45,
   "metadata": {},
   "outputs": [],
   "source": [
    "def longestSubString3(s): \n",
    "#     n = len(s)\n",
    "    ans = 0\n",
    "    d = {} # dictionary mapping character and its index(es) in s\n",
    "    i = -1 # left edge of sliding window\n",
    "\n",
    "    for j in range(len(s)): # right edge of sliding window\n",
    "        # if character already in our dictionary and its index occurs inside current window:\n",
    "        if s[j] in d and d[s[j]] > i: \n",
    "            i = d[s[j]]  # move left edge of window to current index\n",
    "            d[s[j]] = j # update index of character\n",
    "        # character not in dictionary\n",
    "        else:\n",
    "            d[s[i]] = i # add character to dictionary\n",
    "            if j - i > ans: # if length of current window bigger than what we've seen\n",
    "                ans = j - i # increase max\n",
    "\n",
    "    return ans"
   ]
  },
  {
   "cell_type": "code",
   "execution_count": 46,
   "metadata": {},
   "outputs": [
    {
     "data": {
      "text/plain": [
       "4"
      ]
     },
     "execution_count": 46,
     "metadata": {},
     "output_type": "execute_result"
    }
   ],
   "source": [
    "longestSubString3('dvdf')"
   ]
  },
  {
   "cell_type": "code",
   "execution_count": 61,
   "metadata": {},
   "outputs": [],
   "source": [
    "def longestSubString4(s): \n",
    "    d = {} # dictionary mapping character and its higest index in s\n",
    "    final_ans = current_ans = start = 0\n",
    "\n",
    "    for i in range(len(s)): \n",
    "#         print(i, s[i])\n",
    "        if s[i] in d and d[s[i]] >= start:\n",
    "            final_ans = max(final_ans, current_ans)\n",
    "            current_ans = i - d[s[i]]\n",
    "            start = d[s[i]] + 1\n",
    "        else:\n",
    "            current_ans += 1\n",
    "        \n",
    "        d[s[i]] = i\n",
    "#         print(d)\n",
    "    return max(final_ans, current_ans)"
   ]
  },
  {
   "cell_type": "code",
   "execution_count": 62,
   "metadata": {},
   "outputs": [
    {
     "name": "stdout",
     "output_type": "stream",
     "text": [
      "0 d\n",
      "{'d': 0}\n",
      "1 v\n",
      "{'d': 0, 'v': 1}\n",
      "2 d\n",
      "{'d': 2, 'v': 1}\n",
      "3 f\n",
      "{'d': 2, 'v': 1, 'f': 3}\n"
     ]
    },
    {
     "data": {
      "text/plain": [
       "3"
      ]
     },
     "execution_count": 62,
     "metadata": {},
     "output_type": "execute_result"
    }
   ],
   "source": [
    "longestSubString4('dvdf')"
   ]
  },
  {
   "cell_type": "code",
   "execution_count": 42,
   "metadata": {},
   "outputs": [
    {
     "data": {
      "text/plain": [
       "['dvd', 'df', 'd', 'v', 'f', '', '']"
      ]
     },
     "execution_count": 42,
     "metadata": {},
     "output_type": "execute_result"
    }
   ],
   "source": [
    "sorted(test, key=lambda x: len(x), reverse=True)"
   ]
  },
  {
   "cell_type": "code",
   "execution_count": 26,
   "metadata": {},
   "outputs": [
    {
     "data": {
      "text/plain": [
       "{'d', 'v'}"
      ]
     },
     "execution_count": 26,
     "metadata": {},
     "output_type": "execute_result"
    }
   ],
   "source": [
    "set(dum)"
   ]
  },
  {
   "cell_type": "code",
   "execution_count": 29,
   "metadata": {},
   "outputs": [
    {
     "data": {
      "text/plain": [
       "['d', 'dv', 'df']"
      ]
     },
     "execution_count": 29,
     "metadata": {},
     "output_type": "execute_result"
    }
   ],
   "source": [
    "['d' + x for x in 'dvdf'.split('d')]"
   ]
  },
  {
   "cell_type": "code",
   "execution_count": 30,
   "metadata": {},
   "outputs": [
    {
     "data": {
      "text/plain": [
       "['d', 'vd', 'fd']"
      ]
     },
     "execution_count": 30,
     "metadata": {},
     "output_type": "execute_result"
    }
   ],
   "source": [
    "[x + 'd' for x in 'dvdf'.split('d')]"
   ]
  },
  {
   "cell_type": "code",
   "execution_count": 35,
   "metadata": {},
   "outputs": [
    {
     "data": {
      "text/plain": [
       "'dfhi'"
      ]
     },
     "execution_count": 35,
     "metadata": {},
     "output_type": "execute_result"
    }
   ],
   "source": [
    "sorted('dvdfhi'.split('v'))[-1]"
   ]
  },
  {
   "cell_type": "code",
   "execution_count": 16,
   "metadata": {},
   "outputs": [],
   "source": [
    "dum = 'dvd'"
   ]
  },
  {
   "cell_type": "code",
   "execution_count": 17,
   "metadata": {},
   "outputs": [
    {
     "data": {
      "text/plain": [
       "0"
      ]
     },
     "execution_count": 17,
     "metadata": {},
     "output_type": "execute_result"
    }
   ],
   "source": [
    "dum.index('d')"
   ]
  },
  {
   "cell_type": "code",
   "execution_count": 18,
   "metadata": {},
   "outputs": [
    {
     "data": {
      "text/plain": [
       "'vd'"
      ]
     },
     "execution_count": 18,
     "metadata": {},
     "output_type": "execute_result"
    }
   ],
   "source": [
    "dum[1:]"
   ]
  },
  {
   "cell_type": "code",
   "execution_count": null,
   "metadata": {},
   "outputs": [],
   "source": []
  }
 ],
 "metadata": {
  "kernelspec": {
   "display_name": "Python 3",
   "language": "python",
   "name": "python3"
  },
  "language_info": {
   "codemirror_mode": {
    "name": "ipython",
    "version": 3
   },
   "file_extension": ".py",
   "mimetype": "text/x-python",
   "name": "python",
   "nbconvert_exporter": "python",
   "pygments_lexer": "ipython3",
   "version": "3.6.6"
  }
 },
 "nbformat": 4,
 "nbformat_minor": 2
}
