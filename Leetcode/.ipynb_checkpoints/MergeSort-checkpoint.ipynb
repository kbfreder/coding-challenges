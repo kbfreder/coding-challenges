{
 "cells": [
  {
   "cell_type": "markdown",
   "metadata": {},
   "source": [
    "HackerRank problem, using Linked Lists\n",
    "\n",
    "https://leetcode.com/problems/merge-two-sorted-lists/"
   ]
  },
  {
   "cell_type": "code",
   "execution_count": 10,
   "metadata": {},
   "outputs": [],
   "source": [
    "class ListNode:\n",
    "    def __init__(self, x):\n",
    "        self.val = x\n",
    "        self.next = None\n",
    "        \n",
    "    def printList(self):\n",
    "        temp = self\n",
    "        while temp is not None:\n",
    "            print(temp.val)\n",
    "            temp = temp.next\n"
   ]
  },
  {
   "cell_type": "code",
   "execution_count": 19,
   "metadata": {},
   "outputs": [],
   "source": [
    "lr = ListNode(5)"
   ]
  },
  {
   "cell_type": "code",
   "execution_count": 20,
   "metadata": {},
   "outputs": [
    {
     "name": "stdout",
     "output_type": "stream",
     "text": [
      "5\n"
     ]
    }
   ],
   "source": [
    "lr.printList()"
   ]
  },
  {
   "cell_type": "code",
   "execution_count": 21,
   "metadata": {},
   "outputs": [],
   "source": [
    "lr.next = ListNode(7)"
   ]
  },
  {
   "cell_type": "code",
   "execution_count": 22,
   "metadata": {},
   "outputs": [
    {
     "name": "stdout",
     "output_type": "stream",
     "text": [
      "5\n",
      "7\n"
     ]
    }
   ],
   "source": [
    "lr.printList()"
   ]
  },
  {
   "cell_type": "code",
   "execution_count": 23,
   "metadata": {},
   "outputs": [
    {
     "ename": "NameError",
     "evalue": "name 'lr2' is not defined",
     "output_type": "error",
     "traceback": [
      "\u001b[0;31m---------------------------------------------------------------------------\u001b[0m",
      "\u001b[0;31mNameError\u001b[0m                                 Traceback (most recent call last)",
      "\u001b[0;32m<ipython-input-23-ae0913a1bc2d>\u001b[0m in \u001b[0;36m<module>\u001b[0;34m\u001b[0m\n\u001b[0;32m----> 1\u001b[0;31m \u001b[0mlr2\u001b[0m\u001b[0;34m.\u001b[0m\u001b[0mnext\u001b[0m \u001b[0;34m=\u001b[0m \u001b[0mListNode\u001b[0m\u001b[0;34m(\u001b[0m\u001b[0;36m7\u001b[0m\u001b[0;34m)\u001b[0m\u001b[0;34m\u001b[0m\u001b[0m\n\u001b[0m",
      "\u001b[0;31mNameError\u001b[0m: name 'lr2' is not defined"
     ]
    }
   ],
   "source": [
    "lr2.next = ListNode(7)"
   ]
  },
  {
   "cell_type": "code",
   "execution_count": 17,
   "metadata": {},
   "outputs": [],
   "source": [
    "lr = ListNode([5,7])"
   ]
  },
  {
   "cell_type": "code",
   "execution_count": 18,
   "metadata": {},
   "outputs": [
    {
     "name": "stdout",
     "output_type": "stream",
     "text": [
      "[5, 7]\n"
     ]
    }
   ],
   "source": [
    "lr.printList()"
   ]
  },
  {
   "cell_type": "code",
   "execution_count": 52,
   "metadata": {},
   "outputs": [],
   "source": [
    "# this does not work\n",
    "def mergeTwoLists(self, l1, l2):\n",
    "    \"\"\"\n",
    "    :type l1: ListNode\n",
    "    :type l2: ListNode\n",
    "    :rtype: ListNode\n",
    "    \"\"\"\n",
    "    lr = []\n",
    "\n",
    "    while l1 is not None:\n",
    "        if l1.val >= l2.val or l2 is None:\n",
    "            lr.append(l1.val)\n",
    "            l1 = l1.next\n",
    "    while l2 is not None:\n",
    "        if l2.val > l1.val or l1 is None:\n",
    "            # lr.val = l2.val\n",
    "            lr.append(l2.val)\n",
    "            l2 = l2.next\n",
    "\n",
    "    lrn = ListNode(lr[0])\n",
    "    for n in lr[1:]:\n",
    "        lrn.next = ListNode(n)\n",
    "\n",
    "    return lrn"
   ]
  },
  {
   "cell_type": "code",
   "execution_count": null,
   "metadata": {},
   "outputs": [],
   "source": [
    "# this does not work\n",
    "class Solution:\n",
    "    def mergeTwoLists(self, l1, l2):\n",
    "        \"\"\"\n",
    "        :type l1: ListNode\n",
    "        :type l2: ListNode\n",
    "        :rtype: ListNode\n",
    "        \"\"\"\n",
    "        lr = []\n",
    "        \n",
    "        while l1 is not None or l2 is not None:\n",
    "            if l1 and l2:\n",
    "                if l1.val <= l2.val:\n",
    "                    lr.append(l1.val)\n",
    "                    l1 = l1.next\n",
    "                else:\n",
    "                    lr.append(l2.val)\n",
    "                    l2 = l2.next\n",
    "            elif l1 and l2 is None:\n",
    "                lr.append(l1.val)\n",
    "                l1 = l1.next\n",
    "            elif l2 and l1 is None:                \n",
    "                lr.append(l2.val)\n",
    "                l2 = l2.next\n",
    "        \n",
    "        print(lr)\n",
    "        if len(lr) > 0:\n",
    "            lrn = ListNode(lr.pop(0))\n",
    "            for n in lr:\n",
    "                lrn.next = ListNode(n)\n",
    "        else:\n",
    "            lrn = ListNode('')\n",
    "        \n",
    "        return lrn"
   ]
  },
  {
   "cell_type": "code",
   "execution_count": 53,
   "metadata": {},
   "outputs": [],
   "source": [
    "# this works - someone else's solution (iteratively)\n",
    "def mergeTwoLists1(self, l1, l2):\n",
    "    dummy = cur = ListNode(0)\n",
    "    while l1 and l2:\n",
    "        if l1.val < l2.val:\n",
    "            cur.next = l1\n",
    "            l1 = l1.next\n",
    "        else:\n",
    "            cur.next = l2\n",
    "            l2 = l2.next\n",
    "        cur = cur.next\n",
    "    cur.next = l1 or l2\n",
    "    return dummy.next"
   ]
  },
  {
   "cell_type": "markdown",
   "metadata": {},
   "source": [
    "Just using lists:"
   ]
  },
  {
   "cell_type": "code",
   "execution_count": 54,
   "metadata": {},
   "outputs": [],
   "source": [
    "# iteratively\n",
    "def mergeTwoLists(l1, l2):\n",
    "    l3 = []\n",
    "    while len(l1) > 0 and len(l2) > 0:\n",
    "        if l1[0] < l2[0]:\n",
    "            l3.append(l1.pop(0))\n",
    "        else:\n",
    "            l3.append(l2.pop(0))\n",
    "    \n",
    "    l3.extend(l1 or l2)\n",
    "    \n",
    "    return l3"
   ]
  },
  {
   "cell_type": "code",
   "execution_count": 55,
   "metadata": {},
   "outputs": [
    {
     "data": {
      "text/plain": [
       "[1, 1, 2, 3, 3, 4, 5]"
      ]
     },
     "execution_count": 55,
     "metadata": {},
     "output_type": "execute_result"
    }
   ],
   "source": [
    "mergeTwoLists([1,2,3,4], [1,3,5])"
   ]
  },
  {
   "cell_type": "code",
   "execution_count": 56,
   "metadata": {},
   "outputs": [],
   "source": [
    "# recursively\n",
    "def recur_mergeTwoLists(l1, l2):\n",
    "    \n",
    "    if len(l1) == 0 or len(l2) == 0:\n",
    "        return l1 or l2\n",
    "    \n",
    "    if l1[0] < l2[0]:\n",
    "        l1[1:] = recur_mergeTwoLists(l1[1:], l2)\n",
    "        return l1\n",
    "    else:\n",
    "        l2[1:] = recur_mergeTwoLists(l1, l2[1:])\n",
    "        return l2\n",
    "    "
   ]
  },
  {
   "cell_type": "code",
   "execution_count": 57,
   "metadata": {},
   "outputs": [
    {
     "data": {
      "text/plain": [
       "[1, 1, 2, 3, 3, 4, 5]"
      ]
     },
     "execution_count": 57,
     "metadata": {},
     "output_type": "execute_result"
    }
   ],
   "source": [
    "recur_mergeTwoLists([1,2,3,4], [1,3,5])"
   ]
  }
 ],
 "metadata": {
  "kernelspec": {
   "display_name": "Python 3",
   "language": "python",
   "name": "python3"
  },
  "language_info": {
   "codemirror_mode": {
    "name": "ipython",
    "version": 3
   },
   "file_extension": ".py",
   "mimetype": "text/x-python",
   "name": "python",
   "nbconvert_exporter": "python",
   "pygments_lexer": "ipython3",
   "version": "3.6.6"
  }
 },
 "nbformat": 4,
 "nbformat_minor": 2
}
