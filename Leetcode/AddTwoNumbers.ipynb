{
 "cells": [
  {
   "cell_type": "markdown",
   "metadata": {},
   "source": [
    "https://leetcode.com/problems/add-two-numbers/"
   ]
  },
  {
   "cell_type": "code",
   "execution_count": 27,
   "metadata": {},
   "outputs": [],
   "source": [
    "def addTwoNumbers(l1, l2):\n",
    "    assert len(l1) == len(l2)\n",
    "    x = len(l1)\n",
    "    n3 = 0\n",
    "    l3 = []\n",
    "    for i in range(x):\n",
    "        n3 += (l1[i] + l2[i]) * 10**i\n",
    "#     return n3\n",
    "    n3 = str(n3)\n",
    "    l3 = [d for d in n3]\n",
    "    l3.reverse()\n",
    "    return l3"
   ]
  },
  {
   "cell_type": "code",
   "execution_count": 28,
   "metadata": {},
   "outputs": [
    {
     "data": {
      "text/plain": [
       "['7', '0', '8']"
      ]
     },
     "execution_count": 28,
     "metadata": {},
     "output_type": "execute_result"
    }
   ],
   "source": [
    "addTwoNumbers([2,4,3], [5,6,4])"
   ]
  },
  {
   "cell_type": "code",
   "execution_count": 16,
   "metadata": {},
   "outputs": [
    {
     "data": {
      "text/plain": [
       "807"
      ]
     },
     "execution_count": 16,
     "metadata": {},
     "output_type": "execute_result"
    }
   ],
   "source": [
    "342 + 465"
   ]
  },
  {
   "cell_type": "code",
   "execution_count": 17,
   "metadata": {},
   "outputs": [
    {
     "data": {
      "text/plain": [
       "10"
      ]
     },
     "execution_count": 17,
     "metadata": {},
     "output_type": "execute_result"
    }
   ],
   "source": [
    "10^0"
   ]
  },
  {
   "cell_type": "code",
   "execution_count": 18,
   "metadata": {},
   "outputs": [
    {
     "data": {
      "text/plain": [
       "11"
      ]
     },
     "execution_count": 18,
     "metadata": {},
     "output_type": "execute_result"
    }
   ],
   "source": [
    "10^1"
   ]
  },
  {
   "cell_type": "code",
   "execution_count": null,
   "metadata": {},
   "outputs": [],
   "source": [
    "def addTwoNumbers2(self, l1, l2):\n",
    "    \"\"\"\n",
    "    :type l1: ListNode\n",
    "    :type l2: ListNode\n",
    "    :rtype: ListNode\n",
    "    \"\"\"\n",
    "    i, j, n1, n2 = 0, 0, 0, 0\n",
    "\n",
    "    while l1 is not None:\n",
    "        n1 += l1.val * 10**i\n",
    "        i += 1\n",
    "        l1 = l1.next\n",
    "\n",
    "    while l2 is not None:\n",
    "        n2 += l2.val * 10**j\n",
    "        j += 1\n",
    "        l2 = l2.next\n",
    "\n",
    "    n3 = str(n1 + n2)\n",
    "    l3 = [int(d) for d in n3]\n",
    "    l3.reverse()\n",
    "    return l3"
   ]
  },
  {
   "cell_type": "code",
   "execution_count": null,
   "metadata": {},
   "outputs": [],
   "source": [
    "# class ListNode:\n",
    "#     def __init__(self, x):\n",
    "#         self.val = x\n",
    "#         self.next = None\n",
    "\n",
    "class Solution:\n",
    "    def addTwoNumbers(self, l1, l2):\n",
    "        \"\"\"\n",
    "        :type l1: ListNode\n",
    "        :type l2: ListNode\n",
    "        :rtype: ListNode\n",
    "        \"\"\"\n",
    "        i, n3 = 0, 0\n",
    "        \n",
    "        while l1 is not None or l2 is not None:\n",
    "            if l1:\n",
    "                n3 += l1.val * 10**i\n",
    "                l1 = l1.next\n",
    "        \n",
    "            if l2:\n",
    "                n3 += l2.val * 10**i\n",
    "                l2 = l2.next\n",
    "            \n",
    "            i += 1\n",
    "        \n",
    "        # n3 = str(n3)\n",
    "        l3 = [int(d) for d in str(n3)]\n",
    "        l3.reverse()\n",
    "        return l3"
   ]
  }
 ],
 "metadata": {
  "kernelspec": {
   "display_name": "Python 3",
   "language": "python",
   "name": "python3"
  },
  "language_info": {
   "codemirror_mode": {
    "name": "ipython",
    "version": 3
   },
   "file_extension": ".py",
   "mimetype": "text/x-python",
   "name": "python",
   "nbconvert_exporter": "python",
   "pygments_lexer": "ipython3",
   "version": "3.6.6"
  }
 },
 "nbformat": 4,
 "nbformat_minor": 2
}
