{
 "cells": [
  {
   "cell_type": "code",
   "execution_count": 25,
   "metadata": {},
   "outputs": [],
   "source": [
    "s = 'abtacocatcd'"
   ]
  },
  {
   "cell_type": "code",
   "execution_count": 3,
   "metadata": {},
   "outputs": [
    {
     "data": {
      "text/plain": [
       "2"
      ]
     },
     "execution_count": 3,
     "metadata": {},
     "output_type": "execute_result"
    }
   ],
   "source": [
    "s.index('t', 1, -1)"
   ]
  },
  {
   "cell_type": "code",
   "execution_count": 4,
   "metadata": {},
   "outputs": [],
   "source": [
    "s_list = list(s)"
   ]
  },
  {
   "cell_type": "code",
   "execution_count": 5,
   "metadata": {},
   "outputs": [
    {
     "data": {
      "text/plain": [
       "['a', 'b', 't', 'a', 'c', 'o', 'c', 'a', 't', 'c', 'd']"
      ]
     },
     "execution_count": 5,
     "metadata": {},
     "output_type": "execute_result"
    }
   ],
   "source": [
    "s_list"
   ]
  },
  {
   "cell_type": "code",
   "execution_count": 7,
   "metadata": {},
   "outputs": [],
   "source": [
    "s_list.reverse()"
   ]
  },
  {
   "cell_type": "code",
   "execution_count": 8,
   "metadata": {},
   "outputs": [
    {
     "data": {
      "text/plain": [
       "['d', 'c', 't', 'a', 'c', 'o', 'c', 'a', 't', 'b', 'a']"
      ]
     },
     "execution_count": 8,
     "metadata": {},
     "output_type": "execute_result"
    }
   ],
   "source": [
    "s_list"
   ]
  },
  {
   "cell_type": "code",
   "execution_count": 9,
   "metadata": {},
   "outputs": [],
   "source": [
    "test = 'tacocat'"
   ]
  },
  {
   "cell_type": "code",
   "execution_count": 12,
   "metadata": {},
   "outputs": [],
   "source": [
    "test_copy = test[:]"
   ]
  },
  {
   "cell_type": "code",
   "execution_count": 13,
   "metadata": {},
   "outputs": [
    {
     "data": {
      "text/plain": [
       "False"
      ]
     },
     "execution_count": 13,
     "metadata": {},
     "output_type": "execute_result"
    }
   ],
   "source": [
    "list(test) == list(test_copy).reverse()"
   ]
  },
  {
   "cell_type": "code",
   "execution_count": 21,
   "metadata": {},
   "outputs": [],
   "source": [
    "test_list = list(test)\n",
    "\n",
    "copy_list = list(test_copy)\n",
    "copy_list.reverse()"
   ]
  },
  {
   "cell_type": "code",
   "execution_count": 19,
   "metadata": {},
   "outputs": [
    {
     "data": {
      "text/plain": [
       "['t', 'a', 'c', 'o', 'c', 'a', 't']"
      ]
     },
     "execution_count": 19,
     "metadata": {},
     "output_type": "execute_result"
    }
   ],
   "source": [
    "copy_list"
   ]
  },
  {
   "cell_type": "code",
   "execution_count": 22,
   "metadata": {},
   "outputs": [
    {
     "data": {
      "text/plain": [
       "True"
      ]
     },
     "execution_count": 22,
     "metadata": {},
     "output_type": "execute_result"
    }
   ],
   "source": [
    "test_list == copy_list"
   ]
  },
  {
   "cell_type": "code",
   "execution_count": 90,
   "metadata": {},
   "outputs": [
    {
     "ename": "SyntaxError",
     "evalue": "invalid syntax (<ipython-input-90-cb0c2c85a3b0>, line 25)",
     "output_type": "error",
     "traceback": [
      "\u001b[0;36m  File \u001b[0;32m\"<ipython-input-90-cb0c2c85a3b0>\"\u001b[0;36m, line \u001b[0;32m25\u001b[0m\n\u001b[0;31m    if s_list[i:-j] == rev_list[i:-j] or s_list[i:-j] == rev_list[]\u001b[0m\n\u001b[0m                                                                  ^\u001b[0m\n\u001b[0;31mSyntaxError\u001b[0m\u001b[0;31m:\u001b[0m invalid syntax\n"
     ]
    }
   ],
   "source": [
    "def palin_sub(s):\n",
    "    n = len(s)\n",
    "    if n == 0:\n",
    "        return ''\n",
    "    s_list = list(s)\n",
    "    rev_list = list(s)\n",
    "    rev_list.reverse()\n",
    "    ans = [s[0]]\n",
    "    if s_list == rev_list:\n",
    "        return s\n",
    "    \n",
    "    for i in range(n-1):\n",
    "        \n",
    "        print(f'i = {i}')\n",
    "        print(''.join(s_list[i:]), ''.join(rev_list[:-(i)]))\n",
    "        \n",
    "        if s_list[i:] == rev_list[:-i] or s_list[i] == rev_list[i:]:\n",
    "            print('bingo!')\n",
    "            if len(s_list[i:]) > len(ans):\n",
    "                ans = s_list[i:]\n",
    "        \n",
    "        for j in range(1, n-i):\n",
    "            print(f'   j = {j}')\n",
    "            print(''.join(s_list[i:-j]), ''.join(rev_list[i:-j]))\n",
    "            if s_list[i:-j] == rev_list[i:-j] or s_list[i:-j] == rev_list[]\n",
    "                print('bingo!')\n",
    "                if len(s_list[i:-j]) > len(ans):\n",
    "                    ans = s_list[i:-j]\n",
    "    \n",
    "    return ''.join(ans)\n",
    "        \n",
    "#     return s_list[0]"
   ]
  },
  {
   "cell_type": "code",
   "execution_count": 91,
   "metadata": {},
   "outputs": [
    {
     "name": "stdout",
     "output_type": "stream",
     "text": [
      "i = 0\n",
      "ccd \n",
      "j = 1\n",
      "cc dc\n",
      "j = 2\n",
      "c d\n",
      "i = 1\n",
      "cd dc\n",
      "j = 1\n",
      "c c\n",
      "j = 2\n",
      " \n"
     ]
    },
    {
     "data": {
      "text/plain": [
       "'c'"
      ]
     },
     "execution_count": 91,
     "metadata": {},
     "output_type": "execute_result"
    }
   ],
   "source": [
    "s = 'ccd'\n",
    "palin_sub(s)"
   ]
  },
  {
   "cell_type": "code",
   "execution_count": 74,
   "metadata": {},
   "outputs": [
    {
     "data": {
      "text/plain": [
       "'abbb'"
      ]
     },
     "execution_count": 74,
     "metadata": {},
     "output_type": "execute_result"
    }
   ],
   "source": [
    "s[0:]"
   ]
  },
  {
   "cell_type": "code",
   "execution_count": 57,
   "metadata": {},
   "outputs": [],
   "source": [
    "n = len(s)"
   ]
  },
  {
   "cell_type": "code",
   "execution_count": 51,
   "metadata": {},
   "outputs": [
    {
     "name": "stdout",
     "output_type": "stream",
     "text": [
      "0\n"
     ]
    }
   ],
   "source": [
    "for i in range(n-1):\n",
    "    print(i)"
   ]
  },
  {
   "cell_type": "code",
   "execution_count": 29,
   "metadata": {},
   "outputs": [
    {
     "data": {
      "text/plain": [
       "'abtacocatc'"
      ]
     },
     "execution_count": 29,
     "metadata": {},
     "output_type": "execute_result"
    }
   ],
   "source": [
    "s[0:-1]"
   ]
  },
  {
   "cell_type": "code",
   "execution_count": 35,
   "metadata": {},
   "outputs": [
    {
     "data": {
      "text/plain": [
       "11"
      ]
     },
     "execution_count": 35,
     "metadata": {},
     "output_type": "execute_result"
    }
   ],
   "source": [
    "n = len(s)\n",
    "n"
   ]
  },
  {
   "cell_type": "code",
   "execution_count": 37,
   "metadata": {},
   "outputs": [
    {
     "data": {
      "text/plain": [
       "''"
      ]
     },
     "execution_count": 37,
     "metadata": {},
     "output_type": "execute_result"
    }
   ],
   "source": [
    "s[11:]"
   ]
  },
  {
   "cell_type": "code",
   "execution_count": null,
   "metadata": {},
   "outputs": [],
   "source": []
  },
  {
   "cell_type": "code",
   "execution_count": null,
   "metadata": {},
   "outputs": [],
   "source": []
  },
  {
   "cell_type": "code",
   "execution_count": 160,
   "metadata": {},
   "outputs": [],
   "source": [
    "def palin_sub2(s):\n",
    "    n = len(s)\n",
    "    if n == 0:\n",
    "        return ''\n",
    "    elif n == 1 or (n == 2 and s[0] == s[1]):\n",
    "        return s\n",
    "    \n",
    "    ans = [s[0]]\n",
    "    j = 2\n",
    "    while j <= n:\n",
    "#         print(f'    j = {j}')\n",
    "        for i in range(n-j+1):\n",
    "#             print(f'i = {i}')\n",
    "            forward = list(s[i:i+j])\n",
    "            if i == 0:\n",
    "                rev = list(s[(i+j-1)::-1])\n",
    "            else:\n",
    "                rev = list(s[(i+j-1):(i-1):-1])\n",
    "#             print(forward, rev)\n",
    "            if forward == rev and len(forward) > len(ans):\n",
    "                ans = forward\n",
    "        j += 1\n",
    "        \n",
    "    return ''.join(ans)"
   ]
  },
  {
   "cell_type": "code",
   "execution_count": 156,
   "metadata": {},
   "outputs": [
    {
     "name": "stdout",
     "output_type": "stream",
     "text": [
      "    j = 2\n",
      "i = 0\n",
      "['c', 'c'] ['c', 'c']\n",
      "i = 1\n",
      "['c', 'c'] ['c', 'c']\n",
      "    j = 3\n",
      "i = 0\n",
      "['c', 'c', 'c'] ['c', 'c', 'c']\n"
     ]
    },
    {
     "data": {
      "text/plain": [
       "'ccc'"
      ]
     },
     "execution_count": 156,
     "metadata": {},
     "output_type": "execute_result"
    }
   ],
   "source": [
    "s = 'ccc'\n",
    "palin_sub2(s)"
   ]
  },
  {
   "cell_type": "code",
   "execution_count": 161,
   "metadata": {},
   "outputs": [
    {
     "data": {
      "text/plain": [
       "'sooos'"
      ]
     },
     "execution_count": 161,
     "metadata": {},
     "output_type": "execute_result"
    }
   ],
   "source": [
    "s = '\"azwdzwmwcqzgcobeeiphemqbjtxzwkhiqpbrprocbppbxrnsxnwgikiaqutwpftbiinlnpyqstkiqzbggcsdzzjbrkfmhgtnbujzszxsycmvipjtktpebaafycngqasbbhxaeawwmkjcziybxowkaibqnndcjbsoehtamhspnidjylyisiaewmypfyiqtwlmejkpzlieolfdjnxntonnzfgcqlcfpoxcwqctalwrgwhvqvtrpwemxhirpgizjffqgntsmvzldpjfijdncexbwtxnmbnoykxshkqbounzrewkpqjxocvaufnhunsmsazgibxedtopnccriwcfzeomsrrangufkjfzipkmwfbmkarnyyrgdsooosgqlkzvorrrsaveuoxjeajvbdpgxlcrtqomliphnlehgrzgwujogxteyulphhuhwyoyvcxqatfkboahfqhjgujcaapoyqtsdqfwnijlkknuralezqmcryvkankszmzpgqutojoyzsnyfwsyeqqzrlhzbc\"'\n",
    "palin_sub2(s)"
   ]
  },
  {
   "cell_type": "code",
   "execution_count": 231,
   "metadata": {},
   "outputs": [],
   "source": [
    "def palin_sub3(s):\n",
    "    n = len(s)\n",
    "    if n == 0:\n",
    "        return ''\n",
    "    elif n == 1 or (n == 2 and s[0] == s[1]):\n",
    "        return s\n",
    "    \n",
    "    ans = [s[0]]\n",
    "    j = n\n",
    "    while j >= 2:\n",
    "#         print(f'    j = {j}')\n",
    "        for i in range(n-j+1):\n",
    "#             print(f'i = {i}')\n",
    "            forward = list(s[i:i+j])\n",
    "            if i == 0:\n",
    "                rev = list(s[(i+j-1)::-1])\n",
    "            else:\n",
    "                rev = list(s[(i+j-1):(i-1):-1])\n",
    "#             print(forward, rev)\n",
    "            if forward == rev and len(forward) > len(ans):\n",
    "#                 ans = forward\n",
    "                return ''.join(forward)                \n",
    "        j -= 1\n",
    "        \n",
    "    return ''.join(ans)"
   ]
  },
  {
   "cell_type": "code",
   "execution_count": 232,
   "metadata": {},
   "outputs": [
    {
     "data": {
      "text/plain": [
       "'sooos'"
      ]
     },
     "execution_count": 232,
     "metadata": {},
     "output_type": "execute_result"
    }
   ],
   "source": [
    "s = '\"azwdzwmwcqzgcobeeiphemqbjtxzwkhiqpbrprocbppbxrnsxnwgikiaqutwpftbiinlnpyqstkiqzbggcsdzzjbrkfmhgtnbujzszxsycmvipjtktpebaafycngqasbbhxaeawwmkjcziybxowkaibqnndcjbsoehtamhspnidjylyisiaewmypfyiqtwlmejkpzlieolfdjnxntonnzfgcqlcfpoxcwqctalwrgwhvqvtrpwemxhirpgizjffqgntsmvzldpjfijdncexbwtxnmbnoykxshkqbounzrewkpqjxocvaufnhunsmsazgibxedtopnccriwcfzeomsrrangufkjfzipkmwfbmkarnyyrgdsooosgqlkzvorrrsaveuoxjeajvbdpgxlcrtqomliphnlehgrzgwujogxteyulphhuhwyoyvcxqatfkboahfqhjgujcaapoyqtsdqfwnijlkknuralezqmcryvkankszmzpgqutojoyzsnyfwsyeqqzrlhzbc\"'\n",
    "palin_sub3(s)"
   ]
  },
  {
   "cell_type": "code",
   "execution_count": null,
   "metadata": {},
   "outputs": [],
   "source": []
  },
  {
   "cell_type": "code",
   "execution_count": 164,
   "metadata": {},
   "outputs": [],
   "source": [
    "def palin_sub4(s):\n",
    "    n = len(s)\n",
    "    if n == 0:\n",
    "        return ''\n",
    "    elif n == 1 or (n == 2 and s[0] == s[1]):\n",
    "        return s\n",
    "    \n",
    "    ans = [s[0]]\n",
    "    j = n\n",
    "    while j >= 2:\n",
    "        print(f'    j = {j}')\n",
    "        for i in range(n-j+1):\n",
    "#             print(f'i = {i}')\n",
    "            forward = list(s[i:i+j])\n",
    "            if i == 0:\n",
    "                rev = list(s[(i+j-1)::-1])\n",
    "            else:\n",
    "                rev = list(s[(i+j-1):(i-1):-1])\n",
    "#             print(forward, rev)\n",
    "            if forward == rev and len(forward) > len(ans):\n",
    "#                 ans = forward\n",
    "                return ''.join(forward)                \n",
    "        j -= 1\n",
    "        \n",
    "    return ''.join(ans)"
   ]
  },
  {
   "cell_type": "code",
   "execution_count": 172,
   "metadata": {},
   "outputs": [
    {
     "data": {
      "text/plain": [
       "'bbb'"
      ]
     },
     "execution_count": 172,
     "metadata": {},
     "output_type": "execute_result"
    }
   ],
   "source": [
    "ans = {0: ['a'], 2:['b','b','b'], 5:['c','c']}\n",
    "\n",
    "pals = list(ans.values())\n",
    "\n",
    "pals.sort(key=lambda x: len(x))\n",
    "\n",
    "''.join(pals.pop())"
   ]
  },
  {
   "cell_type": "code",
   "execution_count": 292,
   "metadata": {},
   "outputs": [],
   "source": [
    "def palin_sub5(s):\n",
    "    n = len(s)\n",
    "    if n == 0:\n",
    "        return ''\n",
    "    elif n == 1 or (n == 2 and s[0] == s[1]):\n",
    "        return s\n",
    "    \n",
    "    ans = {0: [s[0]]}\n",
    "        \n",
    "    for i in range(n-1):\n",
    "#         if i % 10 == 0:\n",
    "#             print(i)\n",
    "        forward2 = list(s[i:i+2])\n",
    "        forward3 = list(s[i:i+3])\n",
    "        if i == 0:\n",
    "            rev2 = list(s[(i+1)::-1])\n",
    "            rev3 = list(s[(i+2)::-1])\n",
    "        else:\n",
    "            rev2 = list(s[(i+1):(i-1):-1])\n",
    "            rev3 = list(s[(i+2):(i-1):-1])\n",
    "        \n",
    "#         print(f'window 2: {forward2}, {rev2}')\n",
    "#         print(f'window 3: {forward3}, {rev3}')\n",
    "        \n",
    "        if forward2 == rev2 and len(forward2) > len(ans):\n",
    "            ans[i] = forward2\n",
    "        if forward3 == rev3 and len(forward3) > len(ans):\n",
    "            ans[i] = forward3\n",
    "    \n",
    "    print (ans)\n",
    "    \n",
    "    for i, a in ans.items():\n",
    "#         print(i)\n",
    "        pal = True\n",
    "        k = 1\n",
    "        w = len(a)\n",
    "        start = i\n",
    "        stop = i + w\n",
    "#         print(start, stop)\n",
    "        while pal and k <= i and k <= n-stop:\n",
    "#             print (f'k = {k}')\n",
    "#             print(s[i-k], s[stop+k-1])\n",
    "\n",
    "            if w == 2 and (a[0] == a[1]):\n",
    "                if s[i-k] == a[0]:\n",
    "                    ans[i] = list(s[i-k:stop])\n",
    "                if s[stop+k-1] == a[1]:\n",
    "                    ans[i] = list(s[i:stop+k]) \n",
    "            elif s[i-k] == s[stop+k-1]:\n",
    "                ans[i] = list(s[i-k:stop+k]) \n",
    "            else:\n",
    "                pal = False\n",
    "            k += 1\n",
    "    pals = list(ans.values())\n",
    "    pals.sort(key=lambda x: len(x))\n",
    "    return ''.join(pals.pop())"
   ]
  },
  {
   "cell_type": "code",
   "execution_count": 293,
   "metadata": {},
   "outputs": [
    {
     "name": "stdout",
     "output_type": "stream",
     "text": [
      "{0: ['a'], 4: ['r', 'p', 'r'], 11: ['o', 'o', 'o']}\n"
     ]
    },
    {
     "data": {
      "text/plain": [
       "'sooos'"
      ]
     },
     "execution_count": 293,
     "metadata": {},
     "output_type": "execute_result"
    }
   ],
   "source": [
    "s = 'azwdrprxyzsooostxzhiq'\n",
    "palin_sub5(s)"
   ]
  },
  {
   "cell_type": "code",
   "execution_count": 294,
   "metadata": {},
   "outputs": [
    {
     "name": "stdout",
     "output_type": "stream",
     "text": [
      "{0: ['a'], 5: ['w', 'm', 'w'], 35: ['r', 'p', 'r']}\n"
     ]
    },
    {
     "data": {
      "text/plain": [
       "'rpr'"
      ]
     },
     "execution_count": 294,
     "metadata": {},
     "output_type": "execute_result"
    }
   ],
   "source": [
    "s = 'azwdzwmwcqzgcobeeiphemqbjtxzwkhiqpbrprocbppbxrnsxnwgikiaqutwpftbiinlnpyqstkiqzbggcsdzzjbrkfmhgtnbujzszxsycmvipjtktpebaafycngqasbbhxaeawwmkjcziybxowkaibqnndcjbsoehtamhspnidjylyisiaewmypfyiqtwlmejkpzlieolfdjnxntonnzfgcqlcfpoxcwqctalwrgwhvqvtrpwemxhirpgizjffqgntsmvzldpjfijdncexbwtxnmbnoykxshkqbounzrewkpqjxocvaufnhunsmsazgibxedtopnccriwcfzeomsrrangufkjfzipkmwfbmkarnyyrgdsooosgqlkzvorrrsaveuoxjeajvbdpgxlcrtqomliphnlehgrzgwujogxteyulphhuhwyoyvcxqatfkboahfqhjgujcaapoyqtsdqfwnijlkknuralezqmcryvkankszmzpgqutojoyzsnyfwsyeqqzrlhzbc'\n",
    "palin_sub5(s)"
   ]
  },
  {
   "cell_type": "code",
   "execution_count": 297,
   "metadata": {},
   "outputs": [],
   "source": [
    "idx = s.index('sooos')\n",
    "w = len('sooos')"
   ]
  },
  {
   "cell_type": "code",
   "execution_count": 303,
   "metadata": {},
   "outputs": [
    {
     "name": "stdout",
     "output_type": "stream",
     "text": [
      "{0: ['y', 'y'], 6: ['o', 'o', 'o']}\n",
      "sooos\n",
      "{0: ['m'], 5: ['y', 'y'], 11: ['o', 'o', 'o']}\n",
      "sooos\n",
      "{0: ['k'], 10: ['y', 'y'], 16: ['o', 'o', 'o']}\n",
      "sooos\n",
      "{0: ['j'], 15: ['y', 'y'], 21: ['o', 'o', 'o']}\n",
      "sooos\n",
      "{0: ['n'], 20: ['y', 'y'], 26: ['o', 'o', 'o']}\n",
      "sooos\n",
      "{0: ['m'], 2: ['r', 'r'], 31: ['o', 'o', 'o']}\n",
      "sooos\n",
      "{0: ['c'], 7: ['r', 'r'], 36: ['o', 'o', 'o']}\n",
      "sooos\n",
      "{0: ['c', 'c'], 12: ['r', 'r'], 41: ['o', 'o', 'o']}\n",
      "riwcfzeomsrr\n",
      "{0: ['d'], 5: ['c', 'c'], 46: ['o', 'o', 'o']}\n",
      "ccriwc\n",
      "{0: ['g'], 10: ['c', 'c'], 51: ['o', 'o', 'o']}\n",
      "ccriwc\n",
      "{0: ['s', 'm', 's'], 15: ['c', 'c'], 56: ['o', 'o', 'o']}\n",
      "ccriwc\n",
      "{0: ['f'], 5: ['s', 'm', 's'], 61: ['o', 'o', 'o']}\n",
      "sooos\n",
      "{0: ['o'], 10: ['s', 'm', 's'], 66: ['o', 'o', 'o']}\n",
      "sooos\n",
      "{0: ['k'], 15: ['s', 'm', 's'], 71: ['o', 'o', 'o']}\n",
      "sooos\n",
      "{0: ['n'], 20: ['s', 'm', 's'], 76: ['o', 'o', 'o']}\n",
      "sooos\n",
      "{0: ['k'], 25: ['s', 'm', 's'], 81: ['o', 'o', 'o']}\n",
      "sooos\n",
      "{0: ['y'], 30: ['s', 'm', 's'], 86: ['o', 'o', 'o']}\n",
      "sooos\n",
      "{0: ['n'], 35: ['s', 'm', 's'], 91: ['o', 'o', 'o']}\n",
      "sooos\n",
      "{0: ['x'], 40: ['s', 'm', 's'], 96: ['o', 'o', 'o']}\n",
      "sooos\n",
      "{0: ['j'], 45: ['s', 'm', 's'], 101: ['o', 'o', 'o']}\n",
      "sooos\n",
      "{0: ['d'], 50: ['s', 'm', 's'], 106: ['o', 'o', 'o']}\n",
      "sooos\n",
      "{0: ['s'], 55: ['s', 'm', 's'], 111: ['o', 'o', 'o']}\n",
      "sooos\n",
      "{0: ['f'], 60: ['s', 'm', 's'], 116: ['o', 'o', 'o']}\n",
      "sooos\n",
      "{0: ['g'], 4: ['f', 'f'], 65: ['s', 'm', 's']}\n",
      "sms\n",
      "{0: ['x'], 9: ['f', 'f'], 70: ['s', 'm', 's']}\n",
      "sms\n",
      "{0: ['r'], 14: ['f', 'f'], 75: ['s', 'm', 's']}\n",
      "ffqgntsmvzldpjf\n",
      "{0: ['h'], 1: ['v', 'q', 'v'], 80: ['s', 'm', 's']}\n",
      "sms\n",
      "{0: ['l'], 6: ['v', 'q', 'v'], 85: ['s', 'm', 's']}\n",
      "sms\n",
      "{0: ['w'], 11: ['v', 'q', 'v'], 90: ['s', 'm', 's']}\n",
      "sms\n"
     ]
    }
   ],
   "source": [
    "# window = 10\n",
    "for window in range(5, 150, 5):\n",
    "    news = s[idx-window:idx+w+window]\n",
    "#     print(news)\n",
    "    ans = palin_sub5(news)\n",
    "    print (ans)"
   ]
  },
  {
   "cell_type": "code",
   "execution_count": 274,
   "metadata": {},
   "outputs": [
    {
     "name": "stdout",
     "output_type": "stream",
     "text": [
      "{0: ['a'], 4: ['c', 'o', 'c']}\n"
     ]
    },
    {
     "data": {
      "text/plain": [
       "'tacocat'"
      ]
     },
     "execution_count": 274,
     "metadata": {},
     "output_type": "execute_result"
    }
   ],
   "source": [
    "s = 'abtacocatcd'\n",
    "palin_sub5(s)"
   ]
  },
  {
   "cell_type": "code",
   "execution_count": 275,
   "metadata": {},
   "outputs": [
    {
     "name": "stdout",
     "output_type": "stream",
     "text": [
      "{0: ['a'], 1: ['b', 'b']}\n"
     ]
    },
    {
     "data": {
      "text/plain": [
       "'bbb'"
      ]
     },
     "execution_count": 275,
     "metadata": {},
     "output_type": "execute_result"
    }
   ],
   "source": [
    "s = 'abbb'\n",
    "palin_sub5(s)"
   ]
  },
  {
   "cell_type": "code",
   "execution_count": 272,
   "metadata": {},
   "outputs": [
    {
     "data": {
      "text/plain": [
       "'sooos'"
      ]
     },
     "execution_count": 272,
     "metadata": {},
     "output_type": "execute_result"
    }
   ],
   "source": [
    "s = 'azwdzwmwcqzgcobeeiphemqbjtxzwkhiqpbrprocbppbxrnsxnwgikiaqutwpftbiinlnpyqstkiqzbggcsdzzjbrkfmhgtnbujzszxsycmvipjtktpebaafycngqasbbhxaeawwmkjcziybxowkaibqnndcjbsoehtamhspnidjylyisiaewmypfyiqtwlmejkpzlieolfdjnxntonnzfgcqlcfpoxcwqctalwrgwhvqvtrpwemxhirpgizjffqgntsmvzldpjfijdncexbwtxnmbnoykxshkqbounzrewkpqjxocvaufnhunsmsazgibxedtopnccriwcfzeomsrrangufkjfzipkmwfbmkarnyyrgdsooosgqlkzvorrrsaveuoxjeajvbdpgxlcrtqomliphnlehgrzgwujogxteyulphhuhwyoyvcxqatfkboahfqhjgujcaapoyqtsdqfwnijlkknuralezqmcryvkankszmzpgqutojoyzsnyfwsyeqqzrlhzbc'\n",
    "palin_sub2(s)"
   ]
  },
  {
   "cell_type": "code",
   "execution_count": null,
   "metadata": {},
   "outputs": [],
   "source": []
  },
  {
   "cell_type": "code",
   "execution_count": 228,
   "metadata": {},
   "outputs": [],
   "source": [
    "def palin_sub6(s):\n",
    "    n = len(s)\n",
    "    if n == 0:\n",
    "        return ''\n",
    "    elif n == 1 or (n == 2 and s[0] == s[1]):\n",
    "        return s\n",
    "    \n",
    "    ans = {0: [s[0]]}\n",
    "        \n",
    "    for i in range(n-1):\n",
    "        print(i)\n",
    "        forward2 = list(s[i:i+2])\n",
    "        forward3 = list(s[i:i+3])\n",
    "        print(forward2, forward3)\n",
    "        if i == 0:\n",
    "            rev2 = list(s[(i-1)::-1])\n",
    "            rev3 = list(s[(i-2)::-1])\n",
    "        else:\n",
    "            rev2 = list(s[(i-1):(i-1):-1])\n",
    "            rev3 = list(s[(i-2):(i-1):-1])\n",
    "            \n",
    "        if forward2 == rev2 and len(forward2) > len(ans):\n",
    "            ans[i] = forward2\n",
    "        elif forward3 == rev3 and len(forward3) > len(ans):\n",
    "            ans[i] = forward3\n",
    "    \n",
    "    print (ans)\n",
    "    \n",
    "    for i, a in ans.items():\n",
    "        \n",
    "        pal = True\n",
    "        k = 1\n",
    "        w = len(a)\n",
    "        start = i\n",
    "        stop = i + w\n",
    "#         print(start, stop)\n",
    "        while pal and k <= i and k <= n-stop:\n",
    "#             print (f'    {k}')\n",
    "            if w == 2 and (a[0] == a[1]):\n",
    "                if s[i-k] == a[0]:\n",
    "                    ans[i] = list(s[i-k:stop])\n",
    "                if s[i+stop+k] == a[1]:\n",
    "                    ans[i] = list(s[i:stop+k]) \n",
    "            elif s[i-k] == s[stop+k]:\n",
    "                ans[i] = list(s[i-k:stop+k]) \n",
    "            else:\n",
    "                pal = False\n",
    "            k += 1\n",
    "        \n",
    "    pals = list(ans.values())\n",
    "    pals.sort(key=lambda x: len(x))\n",
    "    return ''.join(pals.pop())"
   ]
  },
  {
   "cell_type": "code",
   "execution_count": null,
   "metadata": {},
   "outputs": [],
   "source": [
    "    j = n\n",
    "    while j >= 2:\n",
    "#         print(f'    j = {j}')\n",
    "        for i in range(n-j+1):\n",
    "#             print(f'i = {i}')\n",
    "            forward = list(s[i:i+j])\n",
    "            if i == 0:\n",
    "                rev = list(s[(i+j-1)::-1])\n",
    "            else:\n",
    "                rev = list(s[(i+j-1):(i-1):-1])\n",
    "#             print(forward, rev)\n",
    "            if forward == rev and len(forward) > len(ans):\n",
    "#                 ans = forward\n",
    "                return ''.join(forward)                \n",
    "        j -= 1"
   ]
  },
  {
   "cell_type": "code",
   "execution_count": 304,
   "metadata": {},
   "outputs": [
    {
     "data": {
      "text/plain": [
       "'t'"
      ]
     },
     "execution_count": 304,
     "metadata": {},
     "output_type": "execute_result"
    }
   ],
   "source": [
    "s = 'abtacocatxy'\n",
    "s[2:3]"
   ]
  },
  {
   "cell_type": "code",
   "execution_count": 313,
   "metadata": {},
   "outputs": [
    {
     "data": {
      "text/plain": [
       "True"
      ]
     },
     "execution_count": 313,
     "metadata": {},
     "output_type": "execute_result"
    }
   ],
   "source": [
    "s = 'abbbc'\n",
    "s[2] == s[3]"
   ]
  },
  {
   "cell_type": "code",
   "execution_count": 314,
   "metadata": {},
   "outputs": [],
   "source": [
    "i = 2\n",
    "k = 1"
   ]
  },
  {
   "cell_type": "code",
   "execution_count": 315,
   "metadata": {},
   "outputs": [
    {
     "data": {
      "text/plain": [
       "4"
      ]
     },
     "execution_count": 315,
     "metadata": {},
     "output_type": "execute_result"
    }
   ],
   "source": [
    "i + k + 1"
   ]
  },
  {
   "cell_type": "code",
   "execution_count": 316,
   "metadata": {},
   "outputs": [
    {
     "data": {
      "text/plain": [
       "'c'"
      ]
     },
     "execution_count": 316,
     "metadata": {},
     "output_type": "execute_result"
    }
   ],
   "source": [
    "s[i+k+1]"
   ]
  },
  {
   "cell_type": "code",
   "execution_count": 487,
   "metadata": {},
   "outputs": [],
   "source": [
    "def palin_sub7(s):\n",
    "    n = len(s)\n",
    "    if n == 0:\n",
    "        return ''\n",
    "    elif n == 1 or (n == 2 and s[0] == s[1]):\n",
    "        return s\n",
    "    \n",
    "    max_dub = ''\n",
    "    max_sng = s[0]\n",
    "        \n",
    "    for i in range(n-1):\n",
    "        print(f'i = {i}')\n",
    "#         if i % 50 == 0:\n",
    "#             print(i)\n",
    "        if s[i] == s[i+1]: # initiate with double-letter run\n",
    "            dub = s[i:i+2]\n",
    "#             print(dub)\n",
    "            k = 1\n",
    "            j = 1\n",
    "            pal = True\n",
    "            while pal and (k<=i or i==0) and j<=n-(i+2):\n",
    "                print(f'   i, k, j = {i},{k},{j} -- {dub}')\n",
    "                print(i-k, i+1+j)\n",
    "#                 print(s[i-k], s[i+1+j])\n",
    "#                 print(s[i+1+j] == s[i+1])\n",
    "                if i>0 and s[i-k] == s[i+1+j]: # bracketed by matching characters\n",
    "                    dub = s[i-k:i+2+j]\n",
    "                    print(f'Adding characters to the right & left: {dub}')\n",
    "                    k+=1\n",
    "                    j+=1\n",
    "                elif s[i+1+j] == s[i+1]: # dub[-1] matches right characters\n",
    "                    dub = s[i:i+2+j]\n",
    "                    j+=1\n",
    "                    print(f'Adding a character to the right: {dub}')\n",
    "                else:\n",
    "                    pal = False\n",
    "                    \n",
    "            print(f'Exiting While loop -- {dub}')\n",
    "            if len(dub) > len(max_dub):\n",
    "                max_dub = dub\n",
    "                print(f'New max dub at {i}: {max_dub}')\n",
    "            \n",
    "        elif s[i-1] == s[i+1]:\n",
    "            sng = s[i-1:i+2]\n",
    "#             print(sng)\n",
    "            k = 1\n",
    "            pal = True\n",
    "            while pal and k<=i-1 and k<=n-i-2:\n",
    "#                 print(f'    k = {k}')\n",
    "#                 print(i-1-k, i+1+k)\n",
    "                if s[i-1-k] == s[i+1+k]: # bracketed by matching characters\n",
    "#                     print('Adding characters')\n",
    "                    sng = s[i-1-k:i+2+k]\n",
    "#                     print(sng)\n",
    "                else:\n",
    "                    pal = False\n",
    "                k += 1\n",
    "            \n",
    "#             print(sng)\n",
    "            if len(sng) > len(max_sng):\n",
    "                max_sng = sng\n",
    "                print(f'New max sng at {i}: {max_sng}')\n",
    "                \n",
    "\n",
    "    if len(max_dub) > len(max_sng):\n",
    "        return max_dub\n",
    "    else:\n",
    "        return max_sng"
   ]
  },
  {
   "cell_type": "code",
   "execution_count": 480,
   "metadata": {},
   "outputs": [
    {
     "data": {
      "text/plain": [
       "298"
      ]
     },
     "execution_count": 480,
     "metadata": {},
     "output_type": "execute_result"
    }
   ],
   "source": [
    "s = \"anugnxshgonmqydttcvmtsoaprxnhpmpovdolbidqiyqubirkvhwppcdyeouvgedccipsvnobrccbndzjdbgxkzdbcjsjjovnhpnbkurxqfupiprpbiwqdnwaqvjbqoaqzkqgdxkfczdkznqxvupdmnyiidqpnbvgjraszbvvztpapxmomnghfaywkzlrupvjpcvascgvstqmvuveiiixjmdofdwyvhgkydrnfuojhzulhobyhtsxmcovwmamjwljioevhafdlpjpmqstguqhrhvsdvinphejfbdvrvabthpyyphyqharjvzriosrdnwmaxtgriivdqlmugtagvsoylqfwhjpmjxcysfujdvcqovxabjdbvyvembfpahvyoybdhweikcgnzrdqlzusgoobysfmlzifwjzlazuepimhbgkrfimmemhayxeqxynewcnynmgyjcwrpqnayvxoebgyjusppfpsfeonfwnbsdonucaipoafavmlrrlplnnbsaghbawooabsjndqnvruuwvllpvvhuepmqtprgktnwxmflmmbifbbsfthbeafseqrgwnwjxkkcqgbucwusjdipxuekanzwimuizqynaxrvicyzjhulqjshtsqswehnozehmbsdmacciflcgsrlyhjukpvosptmsjfteoimtewkrivdllqiotvtrubgkfcacvgqzxjmhmmqlikrtfrurltgtcreafcgisjpvasiwmhcofqkcteudgjoqqmtucnwcocsoiqtfuoazxdayricnmwcg\"\n",
    "idx = s.index(\"hpyyph\")\n",
    "idx"
   ]
  },
  {
   "cell_type": "code",
   "execution_count": 395,
   "metadata": {},
   "outputs": [],
   "source": [
    "idx = s.index('hpyyph')\n",
    "n = len('hpyyph')"
   ]
  },
  {
   "cell_type": "code",
   "execution_count": 481,
   "metadata": {},
   "outputs": [
    {
     "data": {
      "text/plain": [
       "'jfbdvrvabthpyyphyqharjv'"
      ]
     },
     "execution_count": 481,
     "metadata": {},
     "output_type": "execute_result"
    }
   ],
   "source": [
    "news = s[idx-10:idx+n+10]\n",
    "news"
   ]
  },
  {
   "cell_type": "code",
   "execution_count": 488,
   "metadata": {},
   "outputs": [
    {
     "name": "stdout",
     "output_type": "stream",
     "text": [
      "i = 0\n",
      "i = 1\n",
      "i = 2\n",
      "i = 3\n",
      "i = 4\n",
      "i = 5\n",
      "New max sng at 5: vrv\n",
      "i = 6\n",
      "i = 7\n",
      "i = 8\n",
      "i = 9\n",
      "i = 10\n",
      "i = 11\n",
      "i = 12\n",
      "   i, k, j = 12,1,1 -- yy\n",
      "11 14\n",
      "Adding characters to the right & left: pyyp\n",
      "   i, k, j = 12,2,2 -- pyyp\n",
      "10 15\n",
      "Adding characters to the right & left: hpyyph\n",
      "   i, k, j = 12,3,3 -- hpyyph\n",
      "9 16\n",
      "Exiting While loop -- hpyyph\n",
      "New max dub at 12: hpyyph\n",
      "i = 13\n",
      "i = 14\n",
      "i = 15\n",
      "i = 16\n",
      "i = 17\n",
      "i = 18\n",
      "i = 19\n",
      "i = 20\n",
      "i = 21\n"
     ]
    },
    {
     "data": {
      "text/plain": [
       "'hpyyph'"
      ]
     },
     "execution_count": 488,
     "metadata": {},
     "output_type": "execute_result"
    }
   ],
   "source": [
    "palin_sub7(news)"
   ]
  },
  {
   "cell_type": "code",
   "execution_count": 489,
   "metadata": {},
   "outputs": [
    {
     "name": "stdout",
     "output_type": "stream",
     "text": [
      "i = 0\n",
      "i = 1\n",
      "New max sng at 1: ada\n",
      "i = 2\n"
     ]
    },
    {
     "data": {
      "text/plain": [
       "'ada'"
      ]
     },
     "execution_count": 489,
     "metadata": {},
     "output_type": "execute_result"
    }
   ],
   "source": [
    "s = 'adam'\n",
    "palin_sub7(s)"
   ]
  },
  {
   "cell_type": "code",
   "execution_count": 490,
   "metadata": {},
   "outputs": [
    {
     "name": "stdout",
     "output_type": "stream",
     "text": [
      "i = 0\n",
      "   i, k, j = 0,1,1 -- bb\n",
      "-1 2\n",
      "Adding a character to the right: bbb\n",
      "   i, k, j = 0,1,2 -- bbb\n",
      "-1 3\n",
      "Exiting While loop -- bbb\n",
      "New max dub at 0: bbb\n",
      "i = 1\n",
      "   i, k, j = 1,1,1 -- bb\n",
      "0 3\n",
      "Exiting While loop -- bb\n",
      "i = 2\n"
     ]
    },
    {
     "data": {
      "text/plain": [
       "'bbb'"
      ]
     },
     "execution_count": 490,
     "metadata": {},
     "output_type": "execute_result"
    }
   ],
   "source": [
    "s = 'bbbc'\n",
    "palin_sub7(s)"
   ]
  },
  {
   "cell_type": "code",
   "execution_count": 491,
   "metadata": {},
   "outputs": [
    {
     "name": "stdout",
     "output_type": "stream",
     "text": [
      "i = 0\n",
      "i = 1\n",
      "   i, k, j = 1,1,1 -- bb\n",
      "0 3\n",
      "Adding a character to the right: bbb\n",
      "Exiting While loop -- bbb\n",
      "New max dub at 1: bbb\n",
      "i = 2\n",
      "Exiting While loop -- bb\n"
     ]
    },
    {
     "data": {
      "text/plain": [
       "'bbb'"
      ]
     },
     "execution_count": 491,
     "metadata": {},
     "output_type": "execute_result"
    }
   ],
   "source": [
    "s = 'abbb'\n",
    "palin_sub7(s)"
   ]
  },
  {
   "cell_type": "code",
   "execution_count": 492,
   "metadata": {},
   "outputs": [
    {
     "name": "stdout",
     "output_type": "stream",
     "text": [
      "i = 0\n",
      "i = 1\n",
      "i = 2\n",
      "i = 3\n",
      "i = 4\n",
      "i = 5\n",
      "New max sng at 5: tacocat\n",
      "i = 6\n",
      "i = 7\n",
      "i = 8\n",
      "i = 9\n"
     ]
    },
    {
     "data": {
      "text/plain": [
       "'tacocat'"
      ]
     },
     "execution_count": 492,
     "metadata": {},
     "output_type": "execute_result"
    }
   ],
   "source": [
    "s = 'abtacocatxy'\n",
    "palin_sub7(s)"
   ]
  },
  {
   "cell_type": "code",
   "execution_count": null,
   "metadata": {},
   "outputs": [],
   "source": []
  },
  {
   "cell_type": "code",
   "execution_count": 395,
   "metadata": {},
   "outputs": [],
   "source": [
    "idx = s.index('sooos')\n",
    "n = len('sooos')"
   ]
  },
  {
   "cell_type": "code",
   "execution_count": 396,
   "metadata": {},
   "outputs": [
    {
     "data": {
      "text/plain": [
       "'mkarnyyrgdsooosgqlkzvorrr'"
      ]
     },
     "execution_count": 396,
     "metadata": {},
     "output_type": "execute_result"
    }
   ],
   "source": [
    "news = s[idx-10:idx+n+10]\n",
    "news"
   ]
  },
  {
   "cell_type": "code",
   "execution_count": 493,
   "metadata": {},
   "outputs": [],
   "source": [
    "news = 'mkarnyyrgdsooosgqlkzvorrr'"
   ]
  },
  {
   "cell_type": "code",
   "execution_count": 494,
   "metadata": {},
   "outputs": [
    {
     "name": "stdout",
     "output_type": "stream",
     "text": [
      "i = 0\n",
      "i = 1\n",
      "i = 2\n",
      "i = 3\n",
      "i = 4\n",
      "i = 5\n",
      "   i, k, j = 5,1,1 -- yy\n",
      "4 7\n",
      "Exiting While loop -- yy\n",
      "New max dub at 5: yy\n",
      "i = 6\n",
      "i = 7\n",
      "i = 8\n",
      "i = 9\n",
      "i = 10\n",
      "i = 11\n",
      "   i, k, j = 11,1,1 -- oo\n",
      "10 13\n",
      "Adding a character to the right: ooo\n",
      "   i, k, j = 11,1,2 -- ooo\n",
      "10 14\n",
      "Adding characters to the right & left: sooos\n",
      "   i, k, j = 11,2,3 -- sooos\n",
      "9 15\n",
      "Exiting While loop -- sooos\n",
      "New max dub at 11: sooos\n",
      "i = 12\n",
      "   i, k, j = 12,1,1 -- oo\n",
      "11 14\n",
      "Exiting While loop -- oo\n",
      "i = 13\n",
      "i = 14\n",
      "i = 15\n",
      "i = 16\n",
      "i = 17\n",
      "i = 18\n",
      "i = 19\n",
      "i = 20\n",
      "i = 21\n",
      "i = 22\n",
      "   i, k, j = 22,1,1 -- rr\n",
      "21 24\n",
      "Adding a character to the right: rrr\n",
      "Exiting While loop -- rrr\n",
      "i = 23\n",
      "Exiting While loop -- rr\n"
     ]
    },
    {
     "data": {
      "text/plain": [
       "'sooos'"
      ]
     },
     "execution_count": 494,
     "metadata": {},
     "output_type": "execute_result"
    }
   ],
   "source": [
    "palin_sub7(news)"
   ]
  },
  {
   "cell_type": "code",
   "execution_count": 406,
   "metadata": {},
   "outputs": [
    {
     "name": "stdout",
     "output_type": "stream",
     "text": [
      "New max sng at 6: a\n",
      "New max sng at 36: a\n",
      "New max sng at 53: a\n",
      "New max sng at 67: a\n",
      "New max sng at 100: a\n",
      "New max sng at 112: a\n",
      "New max sng at 132: a\n",
      "New max sng at 173: a\n",
      "New max sng at 176: a\n",
      "New max sng at 206: a\n",
      "New max sng at 236: a\n",
      "New max sng at 315: a\n",
      "New max sng at 434: a\n",
      "New max sng at 438: a\n",
      "New max sng at 497: a\n",
      "New max sng at 505: a\n"
     ]
    },
    {
     "data": {
      "text/plain": [
       "'sooos'"
      ]
     },
     "execution_count": 406,
     "metadata": {},
     "output_type": "execute_result"
    }
   ],
   "source": [
    "s = 'azwdzwmwcqzgcobeeiphemqbjtxzwkhiqpbrprocbppbxrnsxnwgikiaqutwpftbiinlnpyqstkiqzbggcsdzzjbrkfmhgtnbujzszxsycmvipjtktpebaafycngqasbbhxaeawwmkjcziybxowkaibqnndcjbsoehtamhspnidjylyisiaewmypfyiqtwlmejkpzlieolfdjnxntonnzfgcqlcfpoxcwqctalwrgwhvqvtrpwemxhirpgizjffqgntsmvzldpjfijdncexbwtxnmbnoykxshkqbounzrewkpqjxocvaufnhunsmsazgibxedtopnccriwcfzeomsrrangufkjfzipkmwfbmkarnyyrgdsooosgqlkzvorrrsaveuoxjeajvbdpgxlcrtqomliphnlehgrzgwujogxteyulphhuhwyoyvcxqatfkboahfqhjgujcaapoyqtsdqfwnijlkknuralezqmcryvkankszmzpgqutojoyzsnyfwsyeqqzrlhzbc'\n",
    "palin_sub7(s)"
   ]
  },
  {
   "cell_type": "code",
   "execution_count": 405,
   "metadata": {},
   "outputs": [
    {
     "name": "stdout",
     "output_type": "stream",
     "text": [
      "sooos\n",
      "sooos\n",
      "sooos\n",
      "sooos\n",
      "sooos\n",
      "sooos\n",
      "sooos\n",
      "sooos\n",
      "sooos\n",
      "sooos\n",
      "New max sng at 1: s\n",
      "sooos\n",
      "New max sng at 6: f\n",
      "sooos\n",
      "New max sng at 11: o\n",
      "New max sng at 130: o\n",
      "sooos\n",
      "New max sng at 16: k\n",
      "New max sng at 135: k\n",
      "New max sng at 139: k\n",
      "sooos\n",
      "New max sng at 21: n\n",
      "New max sng at 140: n\n",
      "New max sng at 144: n\n",
      "sooos\n",
      "New max sng at 26: k\n",
      "New max sng at 145: k\n",
      "New max sng at 149: k\n",
      "sooos\n",
      "New max sng at 31: y\n",
      "New max sng at 150: y\n",
      "New max sng at 154: y\n",
      "sooos\n",
      "New max sng at 36: n\n",
      "New max sng at 155: n\n",
      "New max sng at 159: n\n",
      "sooos\n",
      "New max sng at 41: x\n",
      "New max sng at 160: x\n",
      "New max sng at 164: x\n",
      "sooos\n",
      "New max sng at 46: j\n",
      "New max sng at 165: j\n",
      "New max sng at 169: j\n",
      "sooos\n",
      "New max sng at 51: d\n",
      "New max sng at 170: d\n",
      "New max sng at 174: d\n",
      "sooos\n",
      "New max sng at 56: s\n",
      "New max sng at 175: s\n",
      "New max sng at 179: s\n",
      "sooos\n",
      "New max sng at 61: f\n",
      "New max sng at 180: f\n",
      "New max sng at 184: f\n",
      "sooos\n",
      "New max sng at 66: g\n",
      "New max sng at 185: g\n",
      "New max sng at 189: g\n",
      "sooos\n",
      "New max sng at 71: x\n",
      "New max sng at 190: x\n",
      "New max sng at 194: x\n"
     ]
    },
    {
     "ename": "IndexError",
     "evalue": "string index out of range",
     "output_type": "error",
     "traceback": [
      "\u001b[0;31m---------------------------------------------------------------------------\u001b[0m",
      "\u001b[0;31mIndexError\u001b[0m                                Traceback (most recent call last)",
      "\u001b[0;32m<ipython-input-405-767243fb1416>\u001b[0m in \u001b[0;36m<module>\u001b[0;34m\u001b[0m\n\u001b[1;32m      3\u001b[0m     \u001b[0mnews\u001b[0m \u001b[0;34m=\u001b[0m \u001b[0ms\u001b[0m\u001b[0;34m[\u001b[0m\u001b[0midx\u001b[0m\u001b[0;34m-\u001b[0m\u001b[0mwindow\u001b[0m\u001b[0;34m:\u001b[0m\u001b[0midx\u001b[0m\u001b[0;34m+\u001b[0m\u001b[0mw\u001b[0m\u001b[0;34m+\u001b[0m\u001b[0mwindow\u001b[0m\u001b[0;34m]\u001b[0m\u001b[0;34m\u001b[0m\u001b[0m\n\u001b[1;32m      4\u001b[0m \u001b[0;31m#     print(news)\u001b[0m\u001b[0;34m\u001b[0m\u001b[0;34m\u001b[0m\u001b[0m\n\u001b[0;32m----> 5\u001b[0;31m     \u001b[0mans\u001b[0m \u001b[0;34m=\u001b[0m \u001b[0mpalin_sub7\u001b[0m\u001b[0;34m(\u001b[0m\u001b[0mnews\u001b[0m\u001b[0;34m)\u001b[0m\u001b[0;34m\u001b[0m\u001b[0m\n\u001b[0m\u001b[1;32m      6\u001b[0m     \u001b[0mprint\u001b[0m \u001b[0;34m(\u001b[0m\u001b[0mans\u001b[0m\u001b[0;34m)\u001b[0m\u001b[0;34m\u001b[0m\u001b[0m\n",
      "\u001b[0;32m<ipython-input-404-5d623dff17ac>\u001b[0m in \u001b[0;36mpalin_sub7\u001b[0;34m(s)\u001b[0m\n\u001b[1;32m     46\u001b[0m \u001b[0;31m#                 print(f'k = {k}')\u001b[0m\u001b[0;34m\u001b[0m\u001b[0;34m\u001b[0m\u001b[0m\n\u001b[1;32m     47\u001b[0m \u001b[0;31m#                 print(s[i-k], s[i+1+k])\u001b[0m\u001b[0;34m\u001b[0m\u001b[0;34m\u001b[0m\u001b[0m\n\u001b[0;32m---> 48\u001b[0;31m                 \u001b[0;32mif\u001b[0m \u001b[0ms\u001b[0m\u001b[0;34m[\u001b[0m\u001b[0mi\u001b[0m\u001b[0;34m-\u001b[0m\u001b[0;36m1\u001b[0m\u001b[0;34m-\u001b[0m\u001b[0mk\u001b[0m\u001b[0;34m]\u001b[0m \u001b[0;34m==\u001b[0m \u001b[0ms\u001b[0m\u001b[0;34m[\u001b[0m\u001b[0mi\u001b[0m\u001b[0;34m+\u001b[0m\u001b[0;36m1\u001b[0m\u001b[0;34m+\u001b[0m\u001b[0mk\u001b[0m\u001b[0;34m]\u001b[0m\u001b[0;34m:\u001b[0m \u001b[0;31m# bracketed by matching characters\u001b[0m\u001b[0;34m\u001b[0m\u001b[0m\n\u001b[0m\u001b[1;32m     49\u001b[0m                     \u001b[0msng\u001b[0m \u001b[0;34m=\u001b[0m \u001b[0ms\u001b[0m\u001b[0;34m[\u001b[0m\u001b[0mi\u001b[0m\u001b[0;34m-\u001b[0m\u001b[0;36m1\u001b[0m\u001b[0;34m-\u001b[0m\u001b[0mk\u001b[0m\u001b[0;34m:\u001b[0m\u001b[0mi\u001b[0m\u001b[0;34m+\u001b[0m\u001b[0;36m2\u001b[0m\u001b[0;34m+\u001b[0m\u001b[0mk\u001b[0m\u001b[0;34m]\u001b[0m\u001b[0;34m\u001b[0m\u001b[0m\n\u001b[1;32m     50\u001b[0m                 \u001b[0;32melse\u001b[0m\u001b[0;34m:\u001b[0m\u001b[0;34m\u001b[0m\u001b[0m\n",
      "\u001b[0;31mIndexError\u001b[0m: string index out of range"
     ]
    }
   ],
   "source": [
    "# window = 10\n",
    "for window in range(5, 150, 5):\n",
    "    news = s[idx-window:idx+w+window]\n",
    "#     print(news)\n",
    "    ans = palin_sub7(news)\n",
    "    print (ans)"
   ]
  },
  {
   "cell_type": "code",
   "execution_count": 383,
   "metadata": {},
   "outputs": [
    {
     "data": {
      "text/plain": [
       "'sooos'"
      ]
     },
     "execution_count": 383,
     "metadata": {},
     "output_type": "execute_result"
    }
   ],
   "source": [
    "s = 'azwdzwmwcqzgcobeeiphemqbjtxzwkhiqpbrprocbppbxrnsxnwgikiaqutwpftbiinlnpyqstkiqzbggcsdzzjbrkfmhgtnbujzszxsycmvipjtktpebaafycngqasbbhxaeawwmkjcziybxowkaibqnndcjbsoehtamhspnidjylyisiaewmypfyiqtwlmejkpzlieolfdjnxntonnzfgcqlcfpoxcwqctalwrgwhvqvtrpwemxhirpgizjffqgntsmvzldpjfijdncexbwtxnmbnoykxshkqbounzrewkpqjxocvaufnhunsmsazgibxedtopnccriwcfzeomsrrangufkjfzipkmwfbmkarnyyrgdsooosgqlkzvorrrsaveuoxjeajvbdpgxlcrtqomliphnlehgrzgwujogxteyulphhuhwyoyvcxqatfkboahfqhjgujcaapoyqtsdqfwnijlkknuralezqmcryvkankszmzpgqutojoyzsnyfwsyeqqzrlhzbc'\n",
    "palin_sub2(s)"
   ]
  },
  {
   "cell_type": "code",
   "execution_count": 407,
   "metadata": {},
   "outputs": [
    {
     "data": {
      "text/plain": [
       "'bb'"
      ]
     },
     "execution_count": 407,
     "metadata": {},
     "output_type": "execute_result"
    }
   ],
   "source": [
    "s = 'bbbc'\n",
    "palin_sub7(s)"
   ]
  },
  {
   "cell_type": "code",
   "execution_count": 408,
   "metadata": {},
   "outputs": [
    {
     "data": {
      "text/plain": [
       "'bbb'"
      ]
     },
     "execution_count": 408,
     "metadata": {},
     "output_type": "execute_result"
    }
   ],
   "source": [
    "s = 'abbb'\n",
    "palin_sub7(s)"
   ]
  },
  {
   "cell_type": "code",
   "execution_count": 364,
   "metadata": {},
   "outputs": [
    {
     "name": "stdout",
     "output_type": "stream",
     "text": [
      "4\n"
     ]
    },
    {
     "data": {
      "text/plain": [
       "3"
      ]
     },
     "execution_count": 364,
     "metadata": {},
     "output_type": "execute_result"
    }
   ],
   "source": [
    "print(len(s))\n",
    "i = 2\n",
    "k,j = 1,1\n",
    "n-(i+)"
   ]
  },
  {
   "cell_type": "code",
   "execution_count": null,
   "metadata": {},
   "outputs": [],
   "source": []
  },
  {
   "cell_type": "code",
   "execution_count": 1,
   "metadata": {},
   "outputs": [],
   "source": [
    "def palin_sub8(s):\n",
    "    n = len(s)\n",
    "    if n == 0:\n",
    "        return ''\n",
    "    elif n == 1 or (n == 2 and s[0] == s[1]):\n",
    "        return s\n",
    "    \n",
    "    max_dub = ''\n",
    "    max_sng = s[0]\n",
    "        \n",
    "    for i in range(n-1):\n",
    "        print(f'i = {i}')\n",
    "\n",
    "        if s[i] == s[i+1]: # initiate with double-letter run\n",
    "            dub = s[i:i+2]\n",
    "            j = 1\n",
    "            run = True\n",
    "#             print(f'limit: {n-i-2}')\n",
    "            while run and j<=n-i-2:\n",
    "                if s[i+1+j] == s[i+1]: # dub[-1] matches right characters\n",
    "                    dub = s[i:i+2+j]\n",
    "                    j+=1\n",
    "                    print(f'Adding a character to the right: {dub}')\n",
    "                else:\n",
    "                    run = False\n",
    "\n",
    "            k = 1\n",
    "            pal = True\n",
    "            while pal and (k<=i or i==0) and k+j<=n-(i+2):\n",
    "                print(f'   i, k = {i},{k} -- {dub}')\n",
    "#                 print(i-k, i+1+j)\n",
    "#                 print(s[i-k], s[i+1+j])\n",
    "#                 print(s[i+1+j] == s[i+1])\n",
    "                if i>0 and s[i-k] == s[i+k+j]: # bracketed by matching characters\n",
    "                    dub = s[i-k:i+1+j+k]\n",
    "                    print(f'Adding characters to the right & left: {dub}')\n",
    "                    k+=1           \n",
    "                else:\n",
    "                    pal = False\n",
    "            \n",
    "            print(dub)\n",
    "#             print(f'Exiting While loop -- {dub}')\n",
    "            if len(dub) > len(max_dub):\n",
    "                max_dub = dub\n",
    "                print(f'New max dub at {i}: {max_dub}')\n",
    "            \n",
    "        elif s[i-1] == s[i+1]:\n",
    "            sng = s[i-1:i+2]\n",
    "#             print(sng)\n",
    "            k = 1\n",
    "            pal = True\n",
    "            while pal and k<=i-1 and k<=n-i-2:\n",
    "#                 print(f'    k = {k}')\n",
    "#                 print(i-1-k, i+1+k)\n",
    "                if s[i-1-k] == s[i+1+k]: # bracketed by matching characters\n",
    "#                     print('Adding characters')\n",
    "                    sng = s[i-1-k:i+2+k]\n",
    "#                     print(sng)\n",
    "                else:\n",
    "                    pal = False\n",
    "                k += 1\n",
    "            \n",
    "#             print(sng)\n",
    "            if len(sng) > len(max_sng):\n",
    "                max_sng = sng\n",
    "                print(f'New max sng at {i}: {max_sng}')\n",
    "                \n",
    "\n",
    "    if len(max_dub) > len(max_sng):\n",
    "        return max_dub\n",
    "    else:\n",
    "        return max_sng"
   ]
  },
  {
   "cell_type": "code",
   "execution_count": 2,
   "metadata": {},
   "outputs": [
    {
     "name": "stdout",
     "output_type": "stream",
     "text": [
      "i = 0\n",
      "Adding a character to the right: bbb\n",
      "bbb\n",
      "New max dub at 0: bbb\n",
      "i = 1\n",
      "bb\n",
      "i = 2\n"
     ]
    },
    {
     "data": {
      "text/plain": [
       "'bbb'"
      ]
     },
     "execution_count": 2,
     "metadata": {},
     "output_type": "execute_result"
    }
   ],
   "source": [
    "s = 'bbbc'\n",
    "palin_sub8(s)"
   ]
  },
  {
   "cell_type": "code",
   "execution_count": 507,
   "metadata": {},
   "outputs": [
    {
     "name": "stdout",
     "output_type": "stream",
     "text": [
      "i = 0\n",
      "i = 1\n",
      "limit: 1\n",
      "Adding a character to the right: bbb\n",
      "Exiting While loop -- bbb\n",
      "New max dub at 1: bbb\n",
      "i = 2\n",
      "limit: 0\n",
      "Exiting While loop -- bb\n"
     ]
    },
    {
     "data": {
      "text/plain": [
       "'bbb'"
      ]
     },
     "execution_count": 507,
     "metadata": {},
     "output_type": "execute_result"
    }
   ],
   "source": [
    "# Need to test this out\n",
    "\n",
    "s = 'abbb'\n",
    "palin_sub8(s)"
   ]
  },
  {
   "cell_type": "code",
   "execution_count": 22,
   "metadata": {},
   "outputs": [],
   "source": [
    "def palin_sub8(s):\n",
    "    n = len(s)\n",
    "    if n == 0:\n",
    "        return ''\n",
    "    elif n == 1 or (n == 2 and s[0] == s[1]):\n",
    "        return s\n",
    "    \n",
    "    max_dub = ''\n",
    "    max_sng = s[0]\n",
    "        \n",
    "    for i in range(n-1):\n",
    "\n",
    "        if s[i] == s[i+1]: # initiate with double-letter run\n",
    "            dub = s[i:i+2]\n",
    "            j = 1\n",
    "            run = True\n",
    "            while run and j<=n-i-2:\n",
    "                if s[i+1+j] == s[i+1]: # dub[-1] matches right characters\n",
    "                    dub = s[i:i+2+j]\n",
    "                    j+=1\n",
    "                else:\n",
    "                    run = False\n",
    "            \n",
    "            k = 1\n",
    "            pal = True\n",
    "#             print(k<=1, n-i-2)\n",
    "            while pal and (k<=i or i==0) and k+j<=n-i-1:\n",
    "                print(f'i,j,k: {i},{j},{k}')\n",
    "                \n",
    "                if i>0 and s[i-k] == s[i+j+k]: # bracketed by matching characters\n",
    "                    print('Adding letters')\n",
    "                    dub = s[i-k:i+j+k+1]\n",
    "                    k+=1           \n",
    "                else:\n",
    "                    pal = False\n",
    "            \n",
    "            if len(dub) > len(max_dub):\n",
    "                max_dub = dub\n",
    "                print(f'New max at {i}: {max_dub}')\n",
    "            \n",
    "        elif s[i-1] == s[i+1]:\n",
    "            sng = s[i-1:i+2]\n",
    "            k = 1\n",
    "            pal = True\n",
    "            while pal and k<=i-1 and k<=n-i-2:\n",
    "                if s[i-1-k] == s[i+1+k]: # bracketed by matching characters\n",
    "                    sng = s[i-1-k:i+2+k]\n",
    "                else:\n",
    "                    pal = False\n",
    "                k += 1\n",
    "            \n",
    "            if len(sng) > len(max_sng):\n",
    "                max_sng = sng\n",
    "                \n",
    "\n",
    "    if len(max_dub) > len(max_sng):\n",
    "        return max_dub\n",
    "    else:\n",
    "        return max_sng"
   ]
  },
  {
   "cell_type": "code",
   "execution_count": 19,
   "metadata": {},
   "outputs": [
    {
     "name": "stdout",
     "output_type": "stream",
     "text": [
      "True 8\n",
      "i,j,k: 2,1,1\n",
      "Adding letters\n",
      "i,j,k: 2,1,2\n",
      "New max at 2: atta\n",
      "True 5\n",
      "i,j,k: 5,1,1\n",
      "Adding letters\n",
      "i,j,k: 5,1,2\n",
      "Adding letters\n",
      "i,j,k: 5,1,3\n",
      "Adding letters\n",
      "i,j,k: 5,1,4\n",
      "Adding letters\n",
      "i,j,k: 5,1,5\n",
      "Adding letters\n",
      "New max at 5: tattarrattat\n",
      "True 2\n",
      "i,j,k: 8,1,1\n",
      "Adding letters\n",
      "i,j,k: 8,1,2\n"
     ]
    },
    {
     "data": {
      "text/plain": [
       "'tattarrattat'"
      ]
     },
     "execution_count": 19,
     "metadata": {},
     "output_type": "execute_result"
    }
   ],
   "source": [
    "s = \"tattarrattat\"\n",
    "palin_sub8(s)"
   ]
  },
  {
   "cell_type": "code",
   "execution_count": 21,
   "metadata": {},
   "outputs": [
    {
     "name": "stdout",
     "output_type": "stream",
     "text": [
      "True 1\n",
      "New max at 1: bbb\n",
      "True 0\n"
     ]
    },
    {
     "data": {
      "text/plain": [
       "'bbb'"
      ]
     },
     "execution_count": 21,
     "metadata": {},
     "output_type": "execute_result"
    }
   ],
   "source": [
    "s = 'abbb'\n",
    "palin_sub8(s)"
   ]
  },
  {
   "cell_type": "code",
   "execution_count": 23,
   "metadata": {},
   "outputs": [
    {
     "name": "stdout",
     "output_type": "stream",
     "text": [
      "i,j,k: 0,2,1\n",
      "New max at 0: bbb\n",
      "i,j,k: 1,1,1\n"
     ]
    },
    {
     "data": {
      "text/plain": [
       "'bbb'"
      ]
     },
     "execution_count": 23,
     "metadata": {},
     "output_type": "execute_result"
    }
   ],
   "source": [
    "s = 'bbbc'\n",
    "palin_sub8(s)"
   ]
  },
  {
   "cell_type": "code",
   "execution_count": 24,
   "metadata": {},
   "outputs": [
    {
     "data": {
      "text/plain": [
       "'tacocat'"
      ]
     },
     "execution_count": 24,
     "metadata": {},
     "output_type": "execute_result"
    }
   ],
   "source": [
    "s = 'abtacocatxy'\n",
    "palin_sub8(s)"
   ]
  },
  {
   "cell_type": "code",
   "execution_count": 25,
   "metadata": {},
   "outputs": [
    {
     "name": "stdout",
     "output_type": "stream",
     "text": [
      "i,j,k: 15,1,1\n",
      "New max at 15: ee\n",
      "i,j,k: 41,1,1\n",
      "Adding letters\n",
      "i,j,k: 41,1,2\n",
      "New max at 41: bppb\n",
      "i,j,k: 64,1,1\n",
      "i,j,k: 79,1,1\n",
      "i,j,k: 84,1,1\n",
      "i,j,k: 117,1,1\n",
      "i,j,k: 127,1,1\n",
      "i,j,k: 134,1,1\n",
      "i,j,k: 152,1,1\n",
      "i,j,k: 210,1,1\n",
      "i,j,k: 253,1,1\n",
      "i,j,k: 329,1,1\n",
      "i,j,k: 341,1,1\n",
      "i,j,k: 364,1,1\n",
      "i,j,k: 370,2,1\n",
      "Adding letters\n",
      "i,j,k: 370,2,2\n",
      "New max at 370: sooos\n",
      "i,j,k: 371,1,1\n",
      "i,j,k: 381,2,1\n",
      "i,j,k: 382,1,1\n",
      "i,j,k: 432,1,1\n",
      "i,j,k: 460,1,1\n",
      "i,j,k: 476,1,1\n",
      "i,j,k: 517,1,1\n"
     ]
    },
    {
     "data": {
      "text/plain": [
       "'sooos'"
      ]
     },
     "execution_count": 25,
     "metadata": {},
     "output_type": "execute_result"
    }
   ],
   "source": [
    "s = 'azwdzwmwcqzgcobeeiphemqbjtxzwkhiqpbrprocbppbxrnsxnwgikiaqutwpftbiinlnpyqstkiqzbggcsdzzjbrkfmhgtnbujzszxsycmvipjtktpebaafycngqasbbhxaeawwmkjcziybxowkaibqnndcjbsoehtamhspnidjylyisiaewmypfyiqtwlmejkpzlieolfdjnxntonnzfgcqlcfpoxcwqctalwrgwhvqvtrpwemxhirpgizjffqgntsmvzldpjfijdncexbwtxnmbnoykxshkqbounzrewkpqjxocvaufnhunsmsazgibxedtopnccriwcfzeomsrrangufkjfzipkmwfbmkarnyyrgdsooosgqlkzvorrrsaveuoxjeajvbdpgxlcrtqomliphnlehgrzgwujogxteyulphhuhwyoyvcxqatfkboahfqhjgujcaapoyqtsdqfwnijlkknuralezqmcryvkankszmzpgqutojoyzsnyfwsyeqqzrlhzbc'\n",
    "palin_sub8(s)"
   ]
  },
  {
   "cell_type": "code",
   "execution_count": null,
   "metadata": {},
   "outputs": [],
   "source": [
    "# this fucking works, but is only faster than 27%. whatever\n",
    "def palin_sub8(s):\n",
    "    n = len(s)\n",
    "    if n == 0:\n",
    "        return ''\n",
    "    elif n == 1 or (n == 2 and s[0] == s[1]):\n",
    "        return s\n",
    "    \n",
    "    max_dub = ''\n",
    "    max_sng = s[0]\n",
    "        \n",
    "    for i in range(n-1):\n",
    "\n",
    "        if s[i] == s[i+1]: # initiate with double-letter run\n",
    "            dub = s[i:i+2]\n",
    "            j = 1\n",
    "            run = True\n",
    "            while run and j<=n-i-2:\n",
    "                if s[i+1+j] == s[i+1]: # dub[-1] matches right characters\n",
    "                    dub = s[i:i+2+j]\n",
    "                    j+=1\n",
    "                else:\n",
    "                    run = False\n",
    "            \n",
    "            k = 1\n",
    "            pal = True\n",
    "            while pal and (k<=i or i==0) and k+j<=n-i-1:\n",
    "                if i>0 and s[i-k] == s[i+j+k]: # bracketed by matching characters\n",
    "                    dub = s[i-k:i+j+k+1]\n",
    "                    k+=1           \n",
    "                else:\n",
    "                    pal = False\n",
    "            \n",
    "            if len(dub) > len(max_dub):\n",
    "                max_dub = dub\n",
    "            \n",
    "        elif s[i-1] == s[i+1]:\n",
    "            sng = s[i-1:i+2]\n",
    "            k = 1\n",
    "            pal = True\n",
    "            while pal and k<=i-1 and k<=n-i-2:\n",
    "                if s[i-1-k] == s[i+1+k]: # bracketed by matching characters\n",
    "                    sng = s[i-1-k:i+2+k]\n",
    "                else:\n",
    "                    pal = False\n",
    "                k += 1\n",
    "            \n",
    "            if len(sng) > len(max_sng):\n",
    "                max_sng = sng\n",
    "                \n",
    "\n",
    "    if len(max_dub) > len(max_sng):\n",
    "        return max_dub\n",
    "    else:\n",
    "        return max_sng"
   ]
  }
 ],
 "metadata": {
  "kernelspec": {
   "display_name": "Python 3",
   "language": "python",
   "name": "python3"
  },
  "language_info": {
   "codemirror_mode": {
    "name": "ipython",
    "version": 3
   },
   "file_extension": ".py",
   "mimetype": "text/x-python",
   "name": "python",
   "nbconvert_exporter": "python",
   "pygments_lexer": "ipython3",
   "version": "3.6.6"
  }
 },
 "nbformat": 4,
 "nbformat_minor": 2
}
