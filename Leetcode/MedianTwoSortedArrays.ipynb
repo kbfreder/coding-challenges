{
 "cells": [
  {
   "cell_type": "code",
   "execution_count": 4,
   "metadata": {},
   "outputs": [
    {
     "data": {
      "text/plain": [
       "3"
      ]
     },
     "execution_count": 4,
     "metadata": {},
     "output_type": "execute_result"
    }
   ],
   "source": [
    "(3 + 4) // 2"
   ]
  },
  {
   "cell_type": "code",
   "execution_count": 3,
   "metadata": {},
   "outputs": [
    {
     "data": {
      "text/plain": [
       "3"
      ]
     },
     "execution_count": 3,
     "metadata": {},
     "output_type": "execute_result"
    }
   ],
   "source": [
    "6 // 2"
   ]
  },
  {
   "cell_type": "code",
   "execution_count": 10,
   "metadata": {},
   "outputs": [],
   "source": [
    "m = [1,3]\n",
    "n = [2,4]"
   ]
  },
  {
   "cell_type": "code",
   "execution_count": 11,
   "metadata": {},
   "outputs": [
    {
     "data": {
      "text/plain": [
       "[1, 3, 2, 4]"
      ]
     },
     "execution_count": 11,
     "metadata": {},
     "output_type": "execute_result"
    }
   ],
   "source": [
    "m + n"
   ]
  },
  {
   "cell_type": "code",
   "execution_count": 12,
   "metadata": {},
   "outputs": [],
   "source": [
    "p = m + n\n",
    "p.sort()"
   ]
  },
  {
   "cell_type": "code",
   "execution_count": 13,
   "metadata": {},
   "outputs": [
    {
     "data": {
      "text/plain": [
       "[1, 2, 3, 4]"
      ]
     },
     "execution_count": 13,
     "metadata": {},
     "output_type": "execute_result"
    }
   ],
   "source": [
    "p"
   ]
  },
  {
   "cell_type": "code",
   "execution_count": 14,
   "metadata": {},
   "outputs": [],
   "source": [
    "def medianSortedArrays(nums1, nums2):\n",
    "    nums3 = nums1 + nums2\n",
    "    nums3.sort()\n",
    "\n",
    "    p = len(nums3)\n",
    "    x = p // 2\n",
    "\n",
    "    if p % 2 == 0:\n",
    "        ans = (nums3[x-1] + nums3[x]) / 2\n",
    "    else:\n",
    "        ans = nums3[x]\n",
    "\n",
    "    return ans"
   ]
  },
  {
   "cell_type": "code",
   "execution_count": 115,
   "metadata": {},
   "outputs": [],
   "source": [
    "def medianSortedArray2(nums1, nums2):\n",
    "    m = len(nums1)\n",
    "    n = len(nums2)\n",
    "    p = m + n\n",
    "    x = p // 2 + 1\n",
    "\n",
    "    if len(nums1) == 0:\n",
    "        nums3 = nums2[:x]\n",
    "    elif len(nums2) == 0:\n",
    "        nums3 = nums1[:x]\n",
    "    else:\n",
    "        nums3 = [0] * x\n",
    "        a,b,c = 0,0,0\n",
    "\n",
    "        while c < x:\n",
    "            print(c)\n",
    "            if a >= m:\n",
    "                nums3[c] = nums2[b]\n",
    "                b += 1\n",
    "            elif b >= n:\n",
    "                nums3[c] = nums1[a]\n",
    "                a += 1\n",
    "            elif nums1[a] <= nums2[b]:\n",
    "#                 print(f'adding {nums1[a]} from 1')\n",
    "                nums3[c] = nums1[a]\n",
    "                a += 1\n",
    "            else:\n",
    "#                 print(f'adding {nums2[b]} from 2')\n",
    "                nums3[c] = nums2[b]\n",
    "                b += 1\n",
    "            c += 1\n",
    "    \n",
    "    print(f'{nums3}, p={p}, x={x}')\n",
    "    if (p % 2 == 0 and x > 1) or p == 2:\n",
    "        ans = (nums3[-1] + nums3[-2]) / 2\n",
    "    else:\n",
    "        ans = nums3[-1]\n",
    "\n",
    "    return ans"
   ]
  },
  {
   "cell_type": "code",
   "execution_count": 116,
   "metadata": {},
   "outputs": [
    {
     "name": "stdout",
     "output_type": "stream",
     "text": [
      "[1, 2, 3], p=4, x=3\n"
     ]
    },
    {
     "data": {
      "text/plain": [
       "2.5"
      ]
     },
     "execution_count": 116,
     "metadata": {},
     "output_type": "execute_result"
    }
   ],
   "source": [
    "n1 = []\n",
    "n2 = [1,2,3,4]\n",
    "\n",
    "medianSortedArray2(n1, n2)"
   ]
  },
  {
   "cell_type": "code",
   "execution_count": 117,
   "metadata": {},
   "outputs": [
    {
     "name": "stdout",
     "output_type": "stream",
     "text": [
      "[1], p=1, x=1\n"
     ]
    },
    {
     "data": {
      "text/plain": [
       "1"
      ]
     },
     "execution_count": 117,
     "metadata": {},
     "output_type": "execute_result"
    }
   ],
   "source": [
    "n1 = []\n",
    "n2 = [1]\n",
    "\n",
    "medianSortedArray2(n1, n2)"
   ]
  },
  {
   "cell_type": "code",
   "execution_count": 118,
   "metadata": {},
   "outputs": [
    {
     "name": "stdout",
     "output_type": "stream",
     "text": [
      "[1], p=1, x=1\n"
     ]
    },
    {
     "data": {
      "text/plain": [
       "1"
      ]
     },
     "execution_count": 118,
     "metadata": {},
     "output_type": "execute_result"
    }
   ],
   "source": [
    "n1 = [1]\n",
    "n2 = []\n",
    "\n",
    "medianSortedArray2(n1, n2)"
   ]
  },
  {
   "cell_type": "code",
   "execution_count": 119,
   "metadata": {},
   "outputs": [
    {
     "name": "stdout",
     "output_type": "stream",
     "text": [
      "0\n",
      "1\n",
      "[1, 2], p=2, x=2\n"
     ]
    },
    {
     "data": {
      "text/plain": [
       "1.5"
      ]
     },
     "execution_count": 119,
     "metadata": {},
     "output_type": "execute_result"
    }
   ],
   "source": [
    "n1 = [1]\n",
    "n2 = [2]\n",
    "\n",
    "medianSortedArray2(n1, n2)"
   ]
  },
  {
   "cell_type": "code",
   "execution_count": null,
   "metadata": {},
   "outputs": [],
   "source": []
  }
 ],
 "metadata": {
  "kernelspec": {
   "display_name": "Python 3",
   "language": "python",
   "name": "python3"
  },
  "language_info": {
   "codemirror_mode": {
    "name": "ipython",
    "version": 3
   },
   "file_extension": ".py",
   "mimetype": "text/x-python",
   "name": "python",
   "nbconvert_exporter": "python",
   "pygments_lexer": "ipython3",
   "version": "3.6.6"
  }
 },
 "nbformat": 4,
 "nbformat_minor": 2
}
