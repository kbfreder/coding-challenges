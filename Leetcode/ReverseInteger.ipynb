{
 "cells": [
  {
   "cell_type": "code",
   "execution_count": 1,
   "metadata": {},
   "outputs": [],
   "source": [
    "def RevInt(x):\n",
    "    rev = ''\n",
    "    int_str = str(x)\n",
    "\n",
    "    if x < 0:\n",
    "        int_str = int_str[1:]\n",
    "        neg = True\n",
    "    else:\n",
    "        neg = False\n",
    "\n",
    "    for i in range(len(int_str)):\n",
    "        rev += (int_str[-(i+1)])\n",
    "\n",
    "    ans = int(rev)\n",
    "    if neg:\n",
    "        ans = -ans\n",
    "\n",
    "    if ans < -2**31 or ans > 2**31 -1:\n",
    "        return 0\n",
    "\n",
    "    return ans"
   ]
  },
  {
   "cell_type": "code",
   "execution_count": 2,
   "metadata": {},
   "outputs": [
    {
     "data": {
      "text/plain": [
       "321"
      ]
     },
     "execution_count": 2,
     "metadata": {},
     "output_type": "execute_result"
    }
   ],
   "source": [
    "RevInt(123)"
   ]
  },
  {
   "cell_type": "code",
   "execution_count": 3,
   "metadata": {},
   "outputs": [
    {
     "name": "stdout",
     "output_type": "stream",
     "text": [
      "151 µs ± 1.5 µs per loop (mean ± std. dev. of 7 runs, 10000 loops each)\n"
     ]
    }
   ],
   "source": [
    "%timeit for x in range(100): RevInt(1234567)"
   ]
  },
  {
   "cell_type": "code",
   "execution_count": 4,
   "metadata": {},
   "outputs": [],
   "source": [
    "x = 1234\n",
    "int_str = str(x)\n",
    "int_list = [char for char in int_str]\n",
    "int_list.reverse()"
   ]
  },
  {
   "cell_type": "code",
   "execution_count": 5,
   "metadata": {},
   "outputs": [
    {
     "data": {
      "text/plain": [
       "['4', '3', '2', '1']"
      ]
     },
     "execution_count": 5,
     "metadata": {},
     "output_type": "execute_result"
    }
   ],
   "source": [
    "int_list"
   ]
  },
  {
   "cell_type": "code",
   "execution_count": 6,
   "metadata": {},
   "outputs": [],
   "source": [
    "def RevInt2(x):\n",
    "    int_str = str(x)\n",
    "    \n",
    "    if x < 0:\n",
    "        int_str = int_str[1:]\n",
    "        neg = True\n",
    "    else:\n",
    "        neg = False\n",
    "\n",
    "    int_list = [char for char in int_str]\n",
    "    int_list.reverse()\n",
    "\n",
    "    ans = int(''.join(int_list))\n",
    "    \n",
    "    if neg:\n",
    "        ans = -ans\n",
    "\n",
    "    if ans < -2**31 or ans > 2**31 -1:\n",
    "        return 0\n",
    "\n",
    "    return ans"
   ]
  },
  {
   "cell_type": "code",
   "execution_count": 8,
   "metadata": {},
   "outputs": [
    {
     "data": {
      "text/plain": [
       "4321"
      ]
     },
     "execution_count": 8,
     "metadata": {},
     "output_type": "execute_result"
    }
   ],
   "source": [
    "RevInt2(1234)"
   ]
  },
  {
   "cell_type": "code",
   "execution_count": 9,
   "metadata": {},
   "outputs": [
    {
     "data": {
      "text/plain": [
       "-4321"
      ]
     },
     "execution_count": 9,
     "metadata": {},
     "output_type": "execute_result"
    }
   ],
   "source": [
    "RevInt2(-1234)"
   ]
  },
  {
   "cell_type": "code",
   "execution_count": 10,
   "metadata": {},
   "outputs": [
    {
     "name": "stdout",
     "output_type": "stream",
     "text": [
      "99.1 µs ± 537 ns per loop (mean ± std. dev. of 7 runs, 10000 loops each)\n"
     ]
    }
   ],
   "source": [
    "%timeit for x in range(100): RevInt2(1234567)"
   ]
  },
  {
   "cell_type": "code",
   "execution_count": 11,
   "metadata": {},
   "outputs": [
    {
     "data": {
      "text/plain": [
       "4"
      ]
     },
     "execution_count": 11,
     "metadata": {},
     "output_type": "execute_result"
    }
   ],
   "source": [
    "1234 % 10"
   ]
  },
  {
   "cell_type": "code",
   "execution_count": 15,
   "metadata": {},
   "outputs": [
    {
     "data": {
      "text/plain": [
       "123"
      ]
     },
     "execution_count": 15,
     "metadata": {},
     "output_type": "execute_result"
    }
   ],
   "source": [
    "1234 // 10"
   ]
  },
  {
   "cell_type": "code",
   "execution_count": 16,
   "metadata": {},
   "outputs": [],
   "source": [
    "def RevInt3(x):\n",
    "    rev = 0\n",
    "    while x != 0:\n",
    "        pop = x % 10\n",
    "        x = x// 10\n",
    "        print(pop, x)\n",
    "        if (rev > 2**30) or (rev == 2**30 and pop > 7):\n",
    "            return 0\n",
    "        if (rev < -2**30) or (rev ==-2**30 and pop < -8):\n",
    "            return 0\n",
    "        rev = rev * 10 + pop\n",
    "        print (rev)\n",
    "        \n",
    "    return rev"
   ]
  },
  {
   "cell_type": "code",
   "execution_count": 17,
   "metadata": {},
   "outputs": [
    {
     "name": "stdout",
     "output_type": "stream",
     "text": [
      "3 12\n",
      "3\n",
      "2 1\n",
      "32\n",
      "1 0\n",
      "321\n"
     ]
    },
    {
     "data": {
      "text/plain": [
       "321"
      ]
     },
     "execution_count": 17,
     "metadata": {},
     "output_type": "execute_result"
    }
   ],
   "source": [
    "RevInt3(123)"
   ]
  },
  {
   "cell_type": "code",
   "execution_count": 22,
   "metadata": {},
   "outputs": [
    {
     "data": {
      "text/plain": [
       "7"
      ]
     },
     "execution_count": 22,
     "metadata": {},
     "output_type": "execute_result"
    }
   ],
   "source": [
    "-(123) % 10"
   ]
  },
  {
   "cell_type": "code",
   "execution_count": 21,
   "metadata": {},
   "outputs": [
    {
     "data": {
      "text/plain": [
       "3"
      ]
     },
     "execution_count": 21,
     "metadata": {},
     "output_type": "execute_result"
    }
   ],
   "source": [
    "123 % 10"
   ]
  },
  {
   "cell_type": "code",
   "execution_count": 19,
   "metadata": {},
   "outputs": [
    {
     "name": "stdout",
     "output_type": "stream",
     "text": [
      "7 -13\n",
      "7\n",
      "7 -2\n",
      "77\n",
      "8 -1\n",
      "778\n",
      "9 -1\n",
      "7789\n",
      "9 -1\n",
      "77899\n",
      "9 -1\n",
      "778999\n",
      "9 -1\n",
      "7789999\n",
      "9 -1\n",
      "77899999\n",
      "9 -1\n",
      "778999999\n",
      "9 -1\n",
      "7789999999\n",
      "9 -1\n"
     ]
    },
    {
     "data": {
      "text/plain": [
       "0"
      ]
     },
     "execution_count": 19,
     "metadata": {},
     "output_type": "execute_result"
    }
   ],
   "source": [
    "RevInt3(-123)"
   ]
  },
  {
   "cell_type": "markdown",
   "metadata": {},
   "source": [
    "42 ms, faster than 100%"
   ]
  },
  {
   "cell_type": "code",
   "execution_count": 37,
   "metadata": {},
   "outputs": [],
   "source": [
    "def RevInt4(x):\n",
    "    if x < 0:\n",
    "        neg = True\n",
    "        x = -x\n",
    "    else:\n",
    "        neg = False\n",
    "    rev = 0\n",
    "    while x != 0:\n",
    "        pop = x % 10\n",
    "        x = x// 10\n",
    "#         print(pop, x)\n",
    "        print(rev*10 >= 2**31, pop)\n",
    "        if (rev*10 > 2**31):\n",
    "            return 0\n",
    "#         if (rev < -2**30) or (rev ==-2**30 and pop < -8):\n",
    "#             return 0\n",
    "        rev = rev * 10 + pop\n",
    "#         print (rev)\n",
    "    \n",
    "    if neg:\n",
    "        rev = -rev\n",
    "        \n",
    "    return rev"
   ]
  },
  {
   "cell_type": "code",
   "execution_count": 32,
   "metadata": {},
   "outputs": [
    {
     "name": "stdout",
     "output_type": "stream",
     "text": [
      "False\n",
      "False\n",
      "False\n"
     ]
    },
    {
     "data": {
      "text/plain": [
       "-321"
      ]
     },
     "execution_count": 32,
     "metadata": {},
     "output_type": "execute_result"
    }
   ],
   "source": [
    "RevInt4(-123)"
   ]
  },
  {
   "cell_type": "code",
   "execution_count": 38,
   "metadata": {},
   "outputs": [
    {
     "name": "stdout",
     "output_type": "stream",
     "text": [
      "False 9\n",
      "False 6\n",
      "False 4\n",
      "False 6\n",
      "False 3\n",
      "False 2\n",
      "False 4\n",
      "False 3\n",
      "False 5\n",
      "True 1\n"
     ]
    },
    {
     "data": {
      "text/plain": [
       "False"
      ]
     },
     "execution_count": 38,
     "metadata": {},
     "output_type": "execute_result"
    }
   ],
   "source": [
    "ans = RevInt4(1534236469)\n",
    "ans > 2**30"
   ]
  },
  {
   "cell_type": "code",
   "execution_count": 39,
   "metadata": {},
   "outputs": [
    {
     "name": "stdout",
     "output_type": "stream",
     "text": [
      "False 9\n",
      "False 6\n",
      "False 4\n",
      "False 6\n",
      "False 3\n",
      "False 2\n",
      "False 4\n",
      "False 3\n",
      "False 5\n",
      "True 1\n"
     ]
    },
    {
     "data": {
      "text/plain": [
       "0"
      ]
     },
     "execution_count": 39,
     "metadata": {},
     "output_type": "execute_result"
    }
   ],
   "source": [
    "RevInt4(1534236469)\n"
   ]
  },
  {
   "cell_type": "code",
   "execution_count": null,
   "metadata": {},
   "outputs": [],
   "source": []
  }
 ],
 "metadata": {
  "kernelspec": {
   "display_name": "Python 3",
   "language": "python",
   "name": "python3"
  },
  "language_info": {
   "codemirror_mode": {
    "name": "ipython",
    "version": 3
   },
   "file_extension": ".py",
   "mimetype": "text/x-python",
   "name": "python",
   "nbconvert_exporter": "python",
   "pygments_lexer": "ipython3",
   "version": "3.6.6"
  }
 },
 "nbformat": 4,
 "nbformat_minor": 2
}
