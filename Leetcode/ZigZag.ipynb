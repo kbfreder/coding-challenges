{
 "cells": [
  {
   "cell_type": "markdown",
   "metadata": {},
   "source": [
    "https://leetcode.com/problems/zigzag-conversion/"
   ]
  },
  {
   "cell_type": "code",
   "execution_count": 1,
   "metadata": {},
   "outputs": [],
   "source": [
    "s = 'PAYPALISHIRING'"
   ]
  },
  {
   "cell_type": "code",
   "execution_count": 2,
   "metadata": {},
   "outputs": [
    {
     "data": {
      "text/plain": [
       "'PYAIHRN'"
      ]
     },
     "execution_count": 2,
     "metadata": {},
     "output_type": "execute_result"
    }
   ],
   "source": [
    "s[::2]"
   ]
  },
  {
   "cell_type": "code",
   "execution_count": 4,
   "metadata": {},
   "outputs": [
    {
     "data": {
      "text/plain": [
       "'PAYPALISHIRING'"
      ]
     },
     "execution_count": 4,
     "metadata": {},
     "output_type": "execute_result"
    }
   ],
   "source": [
    "s[0::1]"
   ]
  },
  {
   "cell_type": "code",
   "execution_count": 5,
   "metadata": {},
   "outputs": [
    {
     "data": {
      "text/plain": [
       "'PYAIHRN'"
      ]
     },
     "execution_count": 5,
     "metadata": {},
     "output_type": "execute_result"
    }
   ],
   "source": [
    "s[0::2]"
   ]
  },
  {
   "cell_type": "code",
   "execution_count": 6,
   "metadata": {},
   "outputs": [
    {
     "data": {
      "text/plain": [
       "'APLSIIG'"
      ]
     },
     "execution_count": 6,
     "metadata": {},
     "output_type": "execute_result"
    }
   ],
   "source": [
    "s[1::2]"
   ]
  },
  {
   "cell_type": "code",
   "execution_count": 11,
   "metadata": {},
   "outputs": [
    {
     "data": {
      "text/plain": [
       "'PH'"
      ]
     },
     "execution_count": 11,
     "metadata": {},
     "output_type": "execute_result"
    }
   ],
   "source": [
    "s[0::8]"
   ]
  },
  {
   "cell_type": "code",
   "execution_count": 10,
   "metadata": {},
   "outputs": [
    {
     "data": {
      "text/plain": [
       "'AI'"
      ]
     },
     "execution_count": 10,
     "metadata": {},
     "output_type": "execute_result"
    }
   ],
   "source": [
    "s[1::8]"
   ]
  },
  {
   "cell_type": "code",
   "execution_count": 12,
   "metadata": {},
   "outputs": [
    {
     "data": {
      "text/plain": [
       "'YR'"
      ]
     },
     "execution_count": 12,
     "metadata": {},
     "output_type": "execute_result"
    }
   ],
   "source": [
    "s[2::8]"
   ]
  },
  {
   "cell_type": "code",
   "execution_count": null,
   "metadata": {},
   "outputs": [],
   "source": [
    "        top_or_bottom = [0, numRows]\n",
    "        next_rows = [1, numRows-1]\n",
    "        if numRows % 2 == 0:\n",
    "            middle_row = numRows //2 + 1\n",
    "        \n",
    "        if numRows = 1\n",
    "            ans = s\n",
    "        else:"
   ]
  },
  {
   "cell_type": "code",
   "execution_count": 33,
   "metadata": {},
   "outputs": [
    {
     "data": {
      "text/plain": [
       "[[], [], []]"
      ]
     },
     "execution_count": 33,
     "metadata": {},
     "output_type": "execute_result"
    }
   ],
   "source": [
    "dum = [[]] * 3\n",
    "dum"
   ]
  },
  {
   "cell_type": "code",
   "execution_count": 34,
   "metadata": {},
   "outputs": [
    {
     "data": {
      "text/plain": [
       "[]"
      ]
     },
     "execution_count": 34,
     "metadata": {},
     "output_type": "execute_result"
    }
   ],
   "source": [
    "dum[2]"
   ]
  },
  {
   "cell_type": "code",
   "execution_count": 57,
   "metadata": {},
   "outputs": [],
   "source": [
    "\n",
    "def convert(s, numRows):\n",
    "    \"\"\"\n",
    "    :type s: str\n",
    "    :type numRows: int\n",
    "    :rtype: str\n",
    "    \"\"\"\n",
    "    if numRows == 1:\n",
    "        return s\n",
    "    else:\n",
    "        rows = []\n",
    "        for n in range(numRows):\n",
    "            rows.append([])\n",
    "        char = 0\n",
    "        i = 0\n",
    "        d = 1 # 1 = down, -1 = up\n",
    "\n",
    "        while char < len(s):\n",
    "            rows[i].append(s[char])\n",
    "    #         print(f'char: {char}, i: {i}, rows: {rows[i]}')\n",
    "\n",
    "            char += 1\n",
    "            i += d\n",
    "\n",
    "            if i == numRows-1 or i == 0:\n",
    "                d *= -1\n",
    "\n",
    "        ans = ''.join([x for row in rows for x in row])\n",
    "    return ans"
   ]
  },
  {
   "cell_type": "code",
   "execution_count": 58,
   "metadata": {},
   "outputs": [
    {
     "data": {
      "text/plain": [
       "'PAHNAPLSIIGYIR'"
      ]
     },
     "execution_count": 58,
     "metadata": {},
     "output_type": "execute_result"
    }
   ],
   "source": [
    "s = 'PAYPALISHIRING'\n",
    "test = convert(s,3)\n",
    "test"
   ]
  },
  {
   "cell_type": "code",
   "execution_count": 60,
   "metadata": {},
   "outputs": [
    {
     "data": {
      "text/plain": [
       "'AB'"
      ]
     },
     "execution_count": 60,
     "metadata": {},
     "output_type": "execute_result"
    }
   ],
   "source": [
    "s = 'AB'\n",
    "convert(s,1)"
   ]
  },
  {
   "cell_type": "code",
   "execution_count": 67,
   "metadata": {},
   "outputs": [],
   "source": [
    "def convert2(s, numRows):\n",
    "    \"\"\"\n",
    "    :type s: str\n",
    "    :type numRows: int\n",
    "    :rtype: str\n",
    "    \"\"\"\n",
    "    if numRows == 1:\n",
    "        return s\n",
    "    else:\n",
    "        rows = [''] * numRows\n",
    "#         for n in range(numRows):\n",
    "#             rows.append([''])\n",
    "        char = 0\n",
    "        i = 0\n",
    "        d = 1 # 1 = down, -1 = up\n",
    "\n",
    "        while char < len(s):\n",
    "#             rows[i].append(s[char])\n",
    "            rows[i] += s[char]\n",
    "            print(f'char: {char}, i: {i}, rows: {rows[i]}')\n",
    "\n",
    "            char += 1\n",
    "            i += d\n",
    "\n",
    "            if i == numRows-1 or i == 0:\n",
    "                d *= -1\n",
    "        print(rows)\n",
    "        ans = ''.join(rows)\n",
    "    return ans"
   ]
  },
  {
   "cell_type": "code",
   "execution_count": 68,
   "metadata": {},
   "outputs": [
    {
     "name": "stdout",
     "output_type": "stream",
     "text": [
      "char: 0, i: 0, rows: P\n",
      "char: 1, i: 1, rows: A\n",
      "char: 2, i: 2, rows: Y\n",
      "char: 3, i: 1, rows: AP\n",
      "char: 4, i: 0, rows: PA\n",
      "char: 5, i: 1, rows: APL\n",
      "char: 6, i: 2, rows: YI\n",
      "char: 7, i: 1, rows: APLS\n",
      "char: 8, i: 0, rows: PAH\n",
      "char: 9, i: 1, rows: APLSI\n",
      "char: 10, i: 2, rows: YIR\n",
      "char: 11, i: 1, rows: APLSII\n",
      "char: 12, i: 0, rows: PAHN\n",
      "char: 13, i: 1, rows: APLSIIG\n",
      "['PAHN', 'APLSIIG', 'YIR']\n"
     ]
    },
    {
     "data": {
      "text/plain": [
       "'PAHNAPLSIIGYIR'"
      ]
     },
     "execution_count": 68,
     "metadata": {},
     "output_type": "execute_result"
    }
   ],
   "source": [
    "s = 'PAYPALISHIRING'\n",
    "test = convert2(s,3)\n",
    "test"
   ]
  },
  {
   "cell_type": "markdown",
   "metadata": {},
   "source": [
    "Alternate approach: visit by row instead of by character\n",
    "- spacer = # of zag columns = 2*numRows - 2\n",
    "- delta = \"cycle length\" = numRows + spcaer + 1 = 2*numRows - 1\n",
    "- first & last row follow base frequency exactly:  [i::delta]\n",
    "- middle rows also include delta + 1 and delta - 1\n",
    "- implement this in for loop + nest if loop"
   ]
  },
  {
   "cell_type": "code",
   "execution_count": null,
   "metadata": {},
   "outputs": [],
   "source": []
  }
 ],
 "metadata": {
  "kernelspec": {
   "display_name": "Python 3",
   "language": "python",
   "name": "python3"
  },
  "language_info": {
   "codemirror_mode": {
    "name": "ipython",
    "version": 3
   },
   "file_extension": ".py",
   "mimetype": "text/x-python",
   "name": "python",
   "nbconvert_exporter": "python",
   "pygments_lexer": "ipython3",
   "version": "3.6.6"
  }
 },
 "nbformat": 4,
 "nbformat_minor": 2
}
