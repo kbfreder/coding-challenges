{
 "cells": [
  {
   "cell_type": "markdown",
   "metadata": {},
   "source": [
    "# *Metis Pair Problem*\n",
    "\n",
    "A version of this problem was faced at a whiteboard by a Metis student in an interview for a data scientist position on April 16, 2015.\n",
    "\n",
    "In programming languages, and especially in Lisps, there can be a lot of parentheses. The parentheses have to be \"balanced\" to be valid. For example, ()(()) is balanced, but ()()) is not balanced. Also, )((()) is not balanced.\n",
    "\n",
    "Write a function that takes a string and returns True if the string's parentheses are balanced, False if they are not.\n",
    "\n",
    "This is fairly easy. Once you are finished, see if you can come up with a second way to solve the problem.\n",
    "\n",
    "Here are examples to test your function with:\n",
    "\n",
    "- (()()()()) should return True\n",
    "- (((()))) should return True\n",
    "- (()((())())) should return True\n",
    "- ((((((()) should return False\n",
    "- ())) should return False\n",
    "- (()()))(() should return False\n"
   ]
  },
  {
   "cell_type": "code",
   "execution_count": 1,
   "metadata": {},
   "outputs": [],
   "source": [
    "# KF solution 01/22/19\n",
    "def matched(s):\n",
    "    '''\n",
    "    s = string\n",
    "    return: True/False'''\n",
    "    # edge case:\n",
    "    if s[0] == ')':\n",
    "        return False\n",
    "    \n",
    "    match_list = []\n",
    "    for char in s:\n",
    "        if char == '(':\n",
    "            match_list.append(char)\n",
    "        elif char == ')':\n",
    "            last_char = match_list.pop()\n",
    "            if last_char != '(':\n",
    "                return False\n",
    "\n",
    "\n",
    "    if len(match_list) == 0:\n",
    "        return True\n",
    "    else:  # unmatched open p's:\n",
    "        return False"
   ]
  },
  {
   "cell_type": "code",
   "execution_count": 2,
   "metadata": {},
   "outputs": [
    {
     "data": {
      "text/plain": [
       "True"
      ]
     },
     "execution_count": 2,
     "metadata": {},
     "output_type": "execute_result"
    }
   ],
   "source": [
    "matched('(()()()())')"
   ]
  },
  {
   "cell_type": "code",
   "execution_count": 3,
   "metadata": {},
   "outputs": [
    {
     "data": {
      "text/plain": [
       "False"
      ]
     },
     "execution_count": 3,
     "metadata": {},
     "output_type": "execute_result"
    }
   ],
   "source": [
    "matched('((((((())')"
   ]
  },
  {
   "cell_type": "code",
   "execution_count": null,
   "metadata": {},
   "outputs": [],
   "source": []
  },
  {
   "cell_type": "code",
   "execution_count": null,
   "metadata": {},
   "outputs": [],
   "source": []
  },
  {
   "cell_type": "code",
   "execution_count": null,
   "metadata": {},
   "outputs": [],
   "source": []
  },
  {
   "cell_type": "markdown",
   "metadata": {},
   "source": [
    "#### Iterative Solution\n",
    "\n",
    "We just need to loop through the text with a counter. Everytime we encounter an open bracket, increase the counter by 1 and for every close bracket, we decrease the counter by 1. If the counter is 0 when we are done, then the brackets are matched. We also have to make sure that the counter never goes under 0.\n",
    "\n",
    "This is an efficient solution. And the complexity of the code is O(N)."
   ]
  },
  {
   "cell_type": "code",
   "execution_count": 1,
   "metadata": {
    "collapsed": true
   },
   "outputs": [],
   "source": [
    "def checkBrackets(text):\n",
    "    s = 0\n",
    "    for c in text:\n",
    "        if c=='(':\n",
    "            s+=1\n",
    "        elif c==')':\n",
    "            s-=1\n",
    "            if s<0:\n",
    "                break\n",
    "    return not s\n",
    "        "
   ]
  },
  {
   "cell_type": "code",
   "execution_count": 2,
   "metadata": {},
   "outputs": [
    {
     "name": "stdout",
     "output_type": "stream",
     "text": [
      "True\n",
      "True\n",
      "True\n",
      "False\n",
      "False\n",
      "False\n"
     ]
    }
   ],
   "source": [
    "print (checkBrackets('(()()()())')) # should return True\n",
    "print (checkBrackets('(((())))')) # should return True\n",
    "print (checkBrackets('(()((())()))')) # should return True\n",
    "print (checkBrackets('((((((()) ')) # should return False\n",
    "print (checkBrackets('()))')) # should return False\n",
    "print (checkBrackets('(()()))(()')) # should return False"
   ]
  },
  {
   "cell_type": "markdown",
   "metadata": {},
   "source": [
    "#### Recursive solution\n",
    "\n",
    "Another approach is to say, for the deepest bracket, the open and close bracket will occur next to each other. So we can remove that first and then do it again and again till we are done.\n",
    "\n",
    "This is called recursion. Instead of solving a problem fully, you reduce it to a smaller version of itself.\n",
    "\n",
    "For this one, we need to remove any text that is present inside the brackets. We just use a regular expression to do that.\n",
    "\n",
    "This implementation isn't too efficient. Everytime we search for a () it will cost us in the order of N. And we have to do it again and again to remove all sets of (). So the overall complexity is O(N^2).\n",
    "\n",
    "So it is silly to use this approach for this problem. But there are problem where an iterative solution is not available. And recursion is powerful idea. This is just a simple example to introduce it."
   ]
  },
  {
   "cell_type": "code",
   "execution_count": 1,
   "metadata": {
    "collapsed": true
   },
   "outputs": [],
   "source": [
    "import re\n",
    "def checkBrackets(text):\n",
    "    text = re.sub('[^()]','',text)\n",
    "    while '()' in text:\n",
    "        text = text.replace('()','')\n",
    "        print(text)\n",
    "    return not text"
   ]
  },
  {
   "cell_type": "code",
   "execution_count": 3,
   "metadata": {},
   "outputs": [
    {
     "name": "stdout",
     "output_type": "stream",
     "text": [
      "()\n",
      "\n",
      "True\n"
     ]
    }
   ],
   "source": [
    "print (checkBrackets('(()()()())')) # should return True\n",
    "# print (checkBrackets('(((())))')) # should return True\n",
    "# print (checkBrackets('(()((())()))')) # should return True\n",
    "# print (checkBrackets('((((((()) ')) # should return False\n",
    "# print (checkBrackets('()))')) # should return False\n",
    "# print (checkBrackets('(()()))(()')) # should return False"
   ]
  },
  {
   "cell_type": "markdown",
   "metadata": {},
   "source": [
    "#### Recursion\n",
    "\n",
    "Recursive solution is typically done using recursion. Which is a function calling itself. Below is how you would do it."
   ]
  },
  {
   "cell_type": "code",
   "execution_count": 5,
   "metadata": {
    "collapsed": true
   },
   "outputs": [],
   "source": [
    "def checkBrackets(text):\n",
    "    if '()' in text:\n",
    "        return checkBrackets(text.replace('()',''))\n",
    "    else:\n",
    "        return not text"
   ]
  },
  {
   "cell_type": "code",
   "execution_count": 6,
   "metadata": {},
   "outputs": [
    {
     "name": "stdout",
     "output_type": "stream",
     "text": [
      "True\n",
      "True\n",
      "True\n",
      "False\n",
      "False\n",
      "False\n"
     ]
    }
   ],
   "source": [
    "print (checkBrackets('(()()()())')) # should return True\n",
    "print (checkBrackets('(((())))')) # should return True\n",
    "print (checkBrackets('(()((())()))')) # should return True\n",
    "print (checkBrackets('((((((()) ')) # should return False\n",
    "print (checkBrackets('()))')) # should return False\n",
    "print (checkBrackets('(()()))(()')) # should return False"
   ]
  },
  {
   "cell_type": "markdown",
   "metadata": {
    "collapsed": true
   },
   "source": [
    "### Expanded problem"
   ]
  },
  {
   "cell_type": "markdown",
   "metadata": {},
   "source": [
    "Apply to include brackets"
   ]
  }
 ],
 "metadata": {
  "kernelspec": {
   "display_name": "Python 3",
   "language": "python",
   "name": "python3"
  },
  "language_info": {
   "codemirror_mode": {
    "name": "ipython",
    "version": 3
   },
   "file_extension": ".py",
   "mimetype": "text/x-python",
   "name": "python",
   "nbconvert_exporter": "python",
   "pygments_lexer": "ipython3",
   "version": "3.6.6"
  }
 },
 "nbformat": 4,
 "nbformat_minor": 1
}
