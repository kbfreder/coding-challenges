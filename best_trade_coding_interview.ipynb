{
 "cells": [
  {
   "cell_type": "markdown",
   "metadata": {},
   "source": [
    "Coding challenge given by Cliff in mock interview at Metis - Fall 2018"
   ]
  },
  {
   "cell_type": "code",
   "execution_count": 3,
   "metadata": {},
   "outputs": [],
   "source": [
    "def max_min(data_path):\n",
    "    '''Returns values'''\n",
    "    max_price = int(max)\n",
    "    min_price = 0\n",
    "    price = open(data_path, 'r')\n",
    "    for p in prices:\n",
    "        if p > max_price:\n",
    "            max_price = p\n",
    "        if p < min_price:\n",
    "            min_price = p\n",
    "    return max_price, min_price"
   ]
  },
  {
   "cell_type": "code",
   "execution_count": 4,
   "metadata": {},
   "outputs": [],
   "source": [
    "def max_min(data_path):\n",
    "    '''Returns index'''\n",
    "    max_price = 0\n",
    "    max_idx = 0\n",
    "    min_price = int(max)\n",
    "    min_idx = 0\n",
    "    i = 0\n",
    "    price = open(data_path, 'r')\n",
    "    for p in prices:\n",
    "        if p > max_price:\n",
    "            max_price = p\n",
    "            max_idx = i\n",
    "        if p < min_price:\n",
    "            min_price = p\n",
    "            min_idx = i\n",
    "        i += 1\n",
    "    return max_idx, min_idx"
   ]
  },
  {
   "cell_type": "code",
   "execution_count": 5,
   "metadata": {},
   "outputs": [],
   "source": [
    "def calc_delta(buy, sell):\n",
    "    return sell - buy"
   ]
  },
  {
   "cell_type": "code",
   "execution_count": 6,
   "metadata": {},
   "outputs": [],
   "source": [
    "def best_trade(data_path):\n",
    "    # current values\n",
    "    buy_date_0 = 1\n",
    "    buy_price_0 = 0\n",
    "    sell_date_0 = 1\n",
    "    sell_price_0 = 0\n",
    "    delta_0 = 0\n",
    "\n",
    "    # best values\n",
    "    buy_date_1 = 1\n",
    "    buy_price_1 = 0\n",
    "    sell_date_1 = 1\n",
    "    sell_price_1 = 0\n",
    "    delta_0 = 0\n",
    "\n",
    "    i = 0\n",
    "    \n",
    "    price = open(data_path, 'r')\n",
    "    for p in prices:\n",
    "        if p < buy_price_0:\n",
    "            buy_price_0 = p\n",
    "            buy_date_0 = i\n",
    "            delta_0 = calc_delta(p, sell_price_0)\n",
    "            if delta_0 > delta_1:\n",
    "                delta_1 = delta_0\n",
    "                buy_date_1 = buy_date_0\n",
    "                buy_price_1 = buy_price_0\n",
    "        \n",
    "        if p > sell_price_0:\n",
    "            sell_price_0 = p\n",
    "            sell_date_0 = i\n",
    "            delta_0 = calc_delta(buy_price_0, p)\n",
    "            \n",
    "            if delta_0 > delta_1:\n",
    "                delta_1 = delta_0\n",
    "                sell_date_1 = sell_price_0\n",
    "                sell_price_1 = buy_price_0\n",
    "    \n",
    "    return "
   ]
  },
  {
   "cell_type": "markdown",
   "metadata": {},
   "source": [
    "Cliff's approach:"
   ]
  },
  {
   "cell_type": "code",
   "execution_count": null,
   "metadata": {},
   "outputs": [],
   "source": [
    "# helper function\n",
    "def update_trade():\n",
    "    bp_best = bp\n",
    "    bd_best = bd\n",
    "    sd_best = sd\n",
    "    diff_best = diff\n",
    "    return ()"
   ]
  },
  {
   "cell_type": "code",
   "execution_count": 8,
   "metadata": {},
   "outputs": [],
   "source": [
    "def best_trade_cliff(data_path):\n",
    "    bp_best = int(max)\n",
    "    bd_best = 0\n",
    "#     sp_best = 0\n",
    "    sd_best = 0\n",
    "    diff_best = 0\n",
    "    \n",
    "    bp_current = int(max)\n",
    "    bd_current = 0\n",
    "    sd_current = 0\n",
    "    diff_current = 0\n",
    "    \n",
    "    i = 0\n",
    "    \n",
    "    prices = open(data_path, 'r')\n",
    "    for p in prices:\n",
    "        p = int(p)\n",
    "        # if p drop below current buy price, this is a better trade, so \n",
    "        if p < bp_current:\n",
    "            bp_current = p\n",
    "            bd_current = i\n",
    "            \n",
    "            # not sure we need to do this part\n",
    "            if diff_current > diff_best:\n",
    "                bp_best, bd_best, sd_best, diff_best = bp_current, bd_current, sd_current, diff_current\n",
    "            \n",
    "            # reset current diff\n",
    "            diff_current = 0\n",
    "            \n",
    "        if p > bp_current:\n",
    "            temp_diff = p - bp_current\n",
    "            if temp_diff > diff_current:\n",
    "                diff_current = temp_diff\n",
    "                update_trade()\n",
    "#                 sd_best = i\n",
    "                sd_current = i\n",
    "        \n",
    "        i += 1\n",
    "        if diff_current > diff_best:\n",
    "            bp_best, bd_best, sd_best, diff_best = bp_current, bd_current, sd_current, diff_current\n",
    "                "
   ]
  },
  {
   "cell_type": "code",
   "execution_count": null,
   "metadata": {},
   "outputs": [],
   "source": []
  }
 ],
 "metadata": {
  "kernelspec": {
   "display_name": "Python 3",
   "language": "python",
   "name": "python3"
  },
  "language_info": {
   "codemirror_mode": {
    "name": "ipython",
    "version": 3
   },
   "file_extension": ".py",
   "mimetype": "text/x-python",
   "name": "python",
   "nbconvert_exporter": "python",
   "pygments_lexer": "ipython3",
   "version": "3.6.6"
  }
 },
 "nbformat": 4,
 "nbformat_minor": 2
}
