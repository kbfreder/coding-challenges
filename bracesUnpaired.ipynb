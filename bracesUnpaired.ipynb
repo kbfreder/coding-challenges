{
 "cells": [
  {
   "cell_type": "code",
   "execution_count": null,
   "metadata": {},
   "outputs": [],
   "source": [
    "def braces(values):\n",
    "    answers = []\n",
    "    braces_dict = {'(':')', '[':']', '{':'}'}\n",
    "    for s in values:\n",
    "        stack = []\n",
    "        ans = True\n",
    "        for char in s:\n",
    "            if char in ('(','{','['):\n",
    "                stack.append(char)\n",
    "            elif char in (')','}',']'):\n",
    "                if len(stack) == 0:\n",
    "                    ans = False\n",
    "                else:\n",
    "                    char2 = stack.pop()\n",
    "                    if braces_dict[char2] != char:\n",
    "                        ans = False\n",
    "    \n",
    "        if len(stack) != 0:\n",
    "            ans = False\n",
    "        \n",
    "        if ans:\n",
    "            answers.append('YES')\n",
    "        else:\n",
    "            answers.append('NO')\n",
    "\n",
    "    print(answers)"
   ]
  }
 ],
 "metadata": {
  "kernelspec": {
   "display_name": "Python 3",
   "language": "python",
   "name": "python3"
  },
  "language_info": {
   "codemirror_mode": {
    "name": "ipython",
    "version": 3
   },
   "file_extension": ".py",
   "mimetype": "text/x-python",
   "name": "python",
   "nbconvert_exporter": "python",
   "pygments_lexer": "ipython3",
   "version": "3.6.6"
  }
 },
 "nbformat": 4,
 "nbformat_minor": 2
}
