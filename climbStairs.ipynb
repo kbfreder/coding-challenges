{
 "cells": [
  {
   "cell_type": "markdown",
   "metadata": {},
   "source": [
    "You are climbing a stair case. It takes n steps to reach to the top.\n",
    "\n",
    "Each time you can either climb 1 or 2 steps. In how many distinct ways can you climb to the top?"
   ]
  },
  {
   "cell_type": "markdown",
   "metadata": {},
   "source": [
    "**Example:**\n",
    "\n",
    "Input : 3\n",
    "Return : 3\n",
    "\n",
    "Steps : [1 1 1], [1 2], [2 1]"
   ]
  },
  {
   "cell_type": "code",
   "execution_count": 3,
   "metadata": {},
   "outputs": [],
   "source": [
    "def climbStairs(A):\n",
    "        assert A > 0\n",
    "        count = [1, 2]\n",
    "        if A ==1 or A ==2:\n",
    "            return count[A-1]\n",
    "        n = 3\n",
    "        while n <= A:\n",
    "            count.append(count[n-2] + count[n-3])\n",
    "            n += 1\n",
    "            print(count)\n",
    "        return count[-1]"
   ]
  },
  {
   "cell_type": "code",
   "execution_count": 4,
   "metadata": {},
   "outputs": [
    {
     "name": "stdout",
     "output_type": "stream",
     "text": [
      "[1, 2, 3]\n",
      "[1, 2, 3, 5]\n"
     ]
    },
    {
     "data": {
      "text/plain": [
       "5"
      ]
     },
     "execution_count": 4,
     "metadata": {},
     "output_type": "execute_result"
    }
   ],
   "source": [
    "climbStairs(4)"
   ]
  },
  {
   "cell_type": "code",
   "execution_count": 3,
   "metadata": {},
   "outputs": [],
   "source": [
    "def climbStairs(A):\n",
    "        assert A > 0\n",
    "        count = [1, 2]\n",
    "        \n",
    "        if A == 1 or A == 2:\n",
    "            return count[A-1]\n",
    "        \n",
    "        n = 3\n",
    "        while n <= A:\n",
    "            count.append(count[n-2] + count[n-3])\n",
    "            n += 1\n",
    "\n",
    "        return count[-1]"
   ]
  },
  {
   "cell_type": "code",
   "execution_count": null,
   "metadata": {},
   "outputs": [],
   "source": []
  }
 ],
 "metadata": {
  "kernelspec": {
   "display_name": "Python 3",
   "language": "python",
   "name": "python3"
  },
  "language_info": {
   "codemirror_mode": {
    "name": "ipython",
    "version": 3
   },
   "file_extension": ".py",
   "mimetype": "text/x-python",
   "name": "python",
   "nbconvert_exporter": "python",
   "pygments_lexer": "ipython3",
   "version": "3.6.6"
  }
 },
 "nbformat": 4,
 "nbformat_minor": 2
}
