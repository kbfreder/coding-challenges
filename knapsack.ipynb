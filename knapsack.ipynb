{
 "cells": [
  {
   "cell_type": "code",
   "execution_count": 9,
   "metadata": {},
   "outputs": [],
   "source": [
    "def knapSack(W, wt, val, n): \n",
    "    K = [[0 for x in range(W+1)] for x in range(n+1)] \n",
    "    return K"
   ]
  },
  {
   "cell_type": "code",
   "execution_count": 10,
   "metadata": {},
   "outputs": [
    {
     "data": {
      "text/plain": [
       "[[0, 0, 0, 0, 0, 0, 0, 0, 0, 0, 0],\n",
       " [0, 0, 0, 0, 0, 0, 0, 0, 0, 0, 0],\n",
       " [0, 0, 0, 0, 0, 0, 0, 0, 0, 0, 0],\n",
       " [0, 0, 0, 0, 0, 0, 0, 0, 0, 0, 0],\n",
       " [0, 0, 0, 0, 0, 0, 0, 0, 0, 0, 0],\n",
       " [0, 0, 0, 0, 0, 0, 0, 0, 0, 0, 0]]"
      ]
     },
     "execution_count": 10,
     "metadata": {},
     "output_type": "execute_result"
    }
   ],
   "source": [
    "K = knapSack(10, [], [], 5)\n",
    "K"
   ]
  },
  {
   "cell_type": "code",
   "execution_count": 12,
   "metadata": {},
   "outputs": [
    {
     "data": {
      "text/plain": [
       "0"
      ]
     },
     "execution_count": 12,
     "metadata": {},
     "output_type": "execute_result"
    }
   ],
   "source": [
    "K[0][-2]"
   ]
  },
  {
   "cell_type": "code",
   "execution_count": 4,
   "metadata": {},
   "outputs": [],
   "source": [
    "import pandas as pd"
   ]
  },
  {
   "cell_type": "code",
   "execution_count": 7,
   "metadata": {},
   "outputs": [],
   "source": [
    "def knapSack(W, wt, val): \n",
    "    n = len(val)\n",
    "    K = [[0 for x in range(W+1)] for x in range(n+1)] \n",
    "  \n",
    "    # Build table K[][] in bottom up manner \n",
    "    for i in range(n+1): \n",
    "        for w in range(W+1): \n",
    "            if i==0 or w==0: \n",
    "                K[i][w] = 0\n",
    "            elif wt[i-1] <= w:\n",
    "                K[i][w] = max(val[i-1] + K[i-1][w-wt[i-1]],  K[i-1][w]) \n",
    "            else: \n",
    "                K[i][w] = K[i-1][w] \n",
    "        print(pd.DataFrame(K))\n",
    "        print()\n",
    "  \n",
    "    return K[n][W] "
   ]
  },
  {
   "cell_type": "code",
   "execution_count": 8,
   "metadata": {},
   "outputs": [
    {
     "name": "stdout",
     "output_type": "stream",
     "text": [
      "   0   1   2   3   4   5   6   7   8   9   10\n",
      "0   0   0   0   0   0   0   0   0   0   0   0\n",
      "1   0   0   0   0   0   0   0   0   0   0   0\n",
      "2   0   0   0   0   0   0   0   0   0   0   0\n",
      "3   0   0   0   0   0   0   0   0   0   0   0\n",
      "4   0   0   0   0   0   0   0   0   0   0   0\n",
      "\n",
      "   0   1   2   3   4   5   6   7   8   9   10\n",
      "0   0   0   0   0   0   0   0   0   0   0   0\n",
      "1   0   0   0   0   0  10  10  10  10  10  10\n",
      "2   0   0   0   0   0   0   0   0   0   0   0\n",
      "3   0   0   0   0   0   0   0   0   0   0   0\n",
      "4   0   0   0   0   0   0   0   0   0   0   0\n",
      "\n",
      "   0   1   2   3   4   5   6   7   8   9   10\n",
      "0   0   0   0   0   0   0   0   0   0   0   0\n",
      "1   0   0   0   0   0  10  10  10  10  10  10\n",
      "2   0   0   0   0  40  40  40  40  40  50  50\n",
      "3   0   0   0   0   0   0   0   0   0   0   0\n",
      "4   0   0   0   0   0   0   0   0   0   0   0\n",
      "\n",
      "   0   1   2   3   4   5   6   7   8   9   10\n",
      "0   0   0   0   0   0   0   0   0   0   0   0\n",
      "1   0   0   0   0   0  10  10  10  10  10  10\n",
      "2   0   0   0   0  40  40  40  40  40  50  50\n",
      "3   0   0   0   0  40  40  40  40  40  50  70\n",
      "4   0   0   0   0   0   0   0   0   0   0   0\n",
      "\n",
      "   0   1   2   3   4   5   6   7   8   9   10\n",
      "0   0   0   0   0   0   0   0   0   0   0   0\n",
      "1   0   0   0   0   0  10  10  10  10  10  10\n",
      "2   0   0   0   0  40  40  40  40  40  50  50\n",
      "3   0   0   0   0  40  40  40  40  40  50  70\n",
      "4   0   0   0  50  50  50  50  90  90  90  90\n",
      "\n"
     ]
    },
    {
     "data": {
      "text/plain": [
       "90"
      ]
     },
     "execution_count": 8,
     "metadata": {},
     "output_type": "execute_result"
    }
   ],
   "source": [
    "knapSack(10, [5,4,6,3], [10, 40, 30, 50])"
   ]
  },
  {
   "cell_type": "code",
   "execution_count": null,
   "metadata": {},
   "outputs": [],
   "source": []
  }
 ],
 "metadata": {
  "kernelspec": {
   "display_name": "Python 3",
   "language": "python",
   "name": "python3"
  },
  "language_info": {
   "codemirror_mode": {
    "name": "ipython",
    "version": 3
   },
   "file_extension": ".py",
   "mimetype": "text/x-python",
   "name": "python",
   "nbconvert_exporter": "python",
   "pygments_lexer": "ipython3",
   "version": "3.6.6"
  }
 },
 "nbformat": 4,
 "nbformat_minor": 2
}
