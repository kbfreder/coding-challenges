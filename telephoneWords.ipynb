{
 "cells": [
  {
   "cell_type": "code",
   "execution_count": 6,
   "metadata": {},
   "outputs": [],
   "source": [
    "tel_pad_dict = {2:['A','B','C'], 3:['D','E','F'], 4:['G','H','I'],\n",
    "                5:['J','K','L'], 6:['M','N','O'], 7:['P','R','S'],\n",
    "                8:['T','U','V'], 9:['W','X','Y']}\n",
    "\n",
    "def helper(tel_key, place):\n",
    "    return tel_pad_dict[tel_key][place-1]"
   ]
  },
  {
   "cell_type": "code",
   "execution_count": 7,
   "metadata": {},
   "outputs": [
    {
     "data": {
      "text/plain": [
       "'E'"
      ]
     },
     "execution_count": 7,
     "metadata": {},
     "output_type": "execute_result"
    }
   ],
   "source": [
    "helper(3,2)"
   ]
  },
  {
   "cell_type": "code",
   "execution_count": 8,
   "metadata": {},
   "outputs": [
    {
     "ename": "SyntaxError",
     "evalue": "invalid syntax (<ipython-input-8-4b980032325d>, line 2)",
     "output_type": "error",
     "traceback": [
      "\u001b[0;36m  File \u001b[0;32m\"<ipython-input-8-4b980032325d>\"\u001b[0;36m, line \u001b[0;32m2\u001b[0m\n\u001b[0;31m    if dig == 0 and dig 0= 1:\u001b[0m\n\u001b[0m                        ^\u001b[0m\n\u001b[0;31mSyntaxError\u001b[0m\u001b[0;31m:\u001b[0m invalid syntax\n"
     ]
    }
   ],
   "source": [
    "def recursive_tel_words(dig):\n",
    "    if dig == 0 or dig == 1:\n",
    "        return dig\n",
    "    else:\n",
    "        for i in range(1,4):\n",
    "            return helper(dig, i)"
   ]
  },
  {
   "cell_type": "code",
   "execution_count": 11,
   "metadata": {},
   "outputs": [],
   "source": [
    "num = '8864532'"
   ]
  },
  {
   "cell_type": "code",
   "execution_count": 12,
   "metadata": {},
   "outputs": [
    {
     "data": {
      "text/plain": [
       "8"
      ]
     },
     "execution_count": 12,
     "metadata": {},
     "output_type": "execute_result"
    }
   ],
   "source": [
    "int(num[0])"
   ]
  },
  {
   "cell_type": "code",
   "execution_count": 18,
   "metadata": {},
   "outputs": [
    {
     "data": {
      "text/plain": [
       "['T', 'T', 'T', 'U', 'U', 'U', 'V', 'V', 'V']"
      ]
     },
     "execution_count": 18,
     "metadata": {},
     "output_type": "execute_result"
    }
   ],
   "source": [
    "[helper(int(num[0]), 1)] * 3 + [helper(int(num[0]), 2)] * 3 + [helper(int(num[0]), 3)] * 3"
   ]
  },
  {
   "cell_type": "code",
   "execution_count": 19,
   "metadata": {},
   "outputs": [
    {
     "ename": "SyntaxError",
     "evalue": "invalid syntax (<ipython-input-19-95d8b5f58800>, line 4)",
     "output_type": "error",
     "traceback": [
      "\u001b[0;36m  File \u001b[0;32m\"<ipython-input-19-95d8b5f58800>\"\u001b[0;36m, line \u001b[0;32m4\u001b[0m\n\u001b[0;31m    for char in num\u001b[0m\n\u001b[0m                   ^\u001b[0m\n\u001b[0;31mSyntaxError\u001b[0m\u001b[0;31m:\u001b[0m invalid syntax\n"
     ]
    }
   ],
   "source": [
    "def tel_words(num):\n",
    "    '''tel_num is string'''\n",
    "    n = len(num)\n",
    "    word_list = [[] * 3**n]\n",
    "    for i in range(n):\n",
    "        for x in range(0, 3**n, 3):\n",
    "            word_list[x].append(num[i],1)\n",
    "        for y in range(3**n)\n",
    "    word_list = [helper(int(num[0]), 1)] * 3 + [helper(int(num[0]), 2)] * 3 + [helper(int(num[0]), 3)] * 3\n",
    "    for word in word_list:\n",
    "        "
   ]
  },
  {
   "cell_type": "code",
   "execution_count": 30,
   "metadata": {},
   "outputs": [
    {
     "name": "stdout",
     "output_type": "stream",
     "text": [
      "1\n",
      "   0\n",
      "   3\n",
      "   6\n",
      "2\n",
      "   9\n",
      "   12\n",
      "   15\n",
      "3\n",
      "   18\n",
      "   21\n",
      "   24\n"
     ]
    }
   ],
   "source": [
    "n = 3\n",
    "i = 1\n",
    "for k in range(1,4):\n",
    "    print(k)\n",
    "    for x in range((k-1) * 3**(n-1), k * 3**(n-1), 3**i):\n",
    "        print(f'   {x}')"
   ]
  },
  {
   "cell_type": "code",
   "execution_count": null,
   "metadata": {},
   "outputs": [],
   "source": []
  }
 ],
 "metadata": {
  "kernelspec": {
   "display_name": "Python 3",
   "language": "python",
   "name": "python3"
  },
  "language_info": {
   "codemirror_mode": {
    "name": "ipython",
    "version": 3
   },
   "file_extension": ".py",
   "mimetype": "text/x-python",
   "name": "python",
   "nbconvert_exporter": "python",
   "pygments_lexer": "ipython3",
   "version": "3.6.6"
  }
 },
 "nbformat": 4,
 "nbformat_minor": 2
}
